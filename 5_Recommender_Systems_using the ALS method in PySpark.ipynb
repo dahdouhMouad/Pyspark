{
  "nbformat": 4,
  "nbformat_minor": 0,
  "metadata": {
    "colab": {
      "name": "5_Recommender_Systems_pyspark - Copy.ipynb",
      "provenance": [],
      "collapsed_sections": []
    },
    "kernelspec": {
      "name": "python3",
      "display_name": "Python 3"
    }
  },
  "cells": [
    {
      "cell_type": "markdown",
      "metadata": {
        "id": "hc-KPrRBD8tb"
      },
      "source": [
        "#**Recommender Systems**"
      ]
    },
    {
      "cell_type": "markdown",
      "metadata": {
        "id": "aAnHp-sGbMWq"
      },
      "source": [
        "# **Code**\n",
        "\n",
        "**Building an RS from scratch using\n",
        "the ALS method in PySpark**"
      ]
    },
    {
      "cell_type": "markdown",
      "metadata": {
        "id": "JbIQ9RoYcD2t"
      },
      "source": [
        "Setup Spark In Collab "
      ]
    },
    {
      "cell_type": "code",
      "metadata": {
        "id": "6_3-26GAHOLb"
      },
      "source": [
        "!apt-get update"
      ],
      "execution_count": null,
      "outputs": []
    },
    {
      "cell_type": "code",
      "metadata": {
        "id": "VOQnNrfEb8ms"
      },
      "source": [
        "!apt-get install openjdk-8-jdk-headless -qq > /dev/null\n",
        "!wget -q https://downloads.apache.org/spark/spark-2.4.7/spark-2.4.7-bin-hadoop2.7.tgz\n",
        "!tar xf spark-2.4.7-bin-hadoop2.7.tgz\n",
        "!pip install -q findspark"
      ],
      "execution_count": null,
      "outputs": []
    },
    {
      "cell_type": "code",
      "metadata": {
        "id": "dOOrZoopcAZr"
      },
      "source": [
        "import os\n",
        "os.environ[\"JAVA_HOME\"] = \"/usr/lib/jvm/java-8-openjdk-amd64\"\n",
        "os.environ[\"SPARK_HOME\"] = \"/content/spark-2.4.7-bin-hadoop2.7\""
      ],
      "execution_count": null,
      "outputs": []
    },
    {
      "cell_type": "code",
      "metadata": {
        "id": "n-Hf7bW0cCVS"
      },
      "source": [
        "import findspark\n",
        "findspark.init()"
      ],
      "execution_count": null,
      "outputs": []
    },
    {
      "cell_type": "markdown",
      "metadata": {
        "id": "lcyi4vT8cOYa"
      },
      "source": [
        "# Data Info"
      ]
    },
    {
      "cell_type": "markdown",
      "metadata": {
        "id": "LfBnPnUAcP1-"
      },
      "source": [
        "The dataset that we are going to use is a subset from\n",
        "a famous open sourced movie lens dataset and contains a total of 0.1\n",
        "million records with three columns (User_Id,title,rating). We will train our\n",
        "recommender model using 75% of the data and test it on the rest of the\n",
        "25% user ratings."
      ]
    },
    {
      "cell_type": "markdown",
      "metadata": {
        "id": "EFANgV1bcxaj"
      },
      "source": [
        "# Step 1: Create the SparkSession Object"
      ]
    },
    {
      "cell_type": "code",
      "metadata": {
        "id": "76pq81Krc0Ls"
      },
      "source": [
        "from pyspark.sql import SparkSession\n",
        "spark = SparkSession.builder.appName('rc').getOrCreate()"
      ],
      "execution_count": null,
      "outputs": []
    },
    {
      "cell_type": "markdown",
      "metadata": {
        "id": "sjaOEqhTdhC9"
      },
      "source": [
        "# Step 2: Read the Dataset"
      ]
    },
    {
      "cell_type": "code",
      "metadata": {
        "id": "EUQlIzNceskU"
      },
      "source": [
        "df = spark.read.csv('movie_ratings_df.csv',inferSchema=True,header= True)\n"
      ],
      "execution_count": null,
      "outputs": []
    },
    {
      "cell_type": "markdown",
      "metadata": {
        "id": "qYSS61gHfLqc"
      },
      "source": [
        "# Step 3: Exploratory Data Analysis\n"
      ]
    },
    {
      "cell_type": "markdown",
      "metadata": {
        "id": "-iMQSbhTfkrD"
      },
      "source": [
        "We will explore the dataset by viewing the dataset, validating\n",
        "the shape of the dataset, and getting a count of the number of movies rated\n",
        "and the number of movies that each user rated."
      ]
    },
    {
      "cell_type": "code",
      "metadata": {
        "colab": {
          "base_uri": "https://localhost:8080/"
        },
        "id": "FbVo6ZTZfpgT",
        "outputId": "cdee01d7-dcfe-45d2-f086-60567642d6c2"
      },
      "source": [
        "#shape of the dataset\n",
        "print((df.count(),len(df.columns)))"
      ],
      "execution_count": null,
      "outputs": [
        {
          "output_type": "stream",
          "text": [
            "(100000, 3)\n"
          ],
          "name": "stdout"
        }
      ]
    },
    {
      "cell_type": "markdown",
      "metadata": {
        "id": "3pGRWvIFf_L0"
      },
      "source": [
        "the datatypes of the input values to check if we need to change/\n",
        "cast any columns’ datatypes."
      ]
    },
    {
      "cell_type": "code",
      "metadata": {
        "colab": {
          "base_uri": "https://localhost:8080/"
        },
        "id": "B1_Pv_J1gBIL",
        "outputId": "b86d2418-c1e2-4e33-bc1c-044fa51428cb"
      },
      "source": [
        "df.printSchema()"
      ],
      "execution_count": null,
      "outputs": [
        {
          "output_type": "stream",
          "text": [
            "root\n",
            " |-- userId: integer (nullable = true)\n",
            " |-- title: string (nullable = true)\n",
            " |-- rating: integer (nullable = true)\n",
            "\n"
          ],
          "name": "stdout"
        }
      ]
    },
    {
      "cell_type": "markdown",
      "metadata": {
        "id": "MO26_h5BgRlz"
      },
      "source": [
        " The critical thing with using PySpark for building\n",
        "RS is that we need to have user_id and item_id in numerical form. Hence,\n",
        "we will convert the movie title to numerical values"
      ]
    },
    {
      "cell_type": "markdown",
      "metadata": {
        "id": "Vk2MMe6RgXMn"
      },
      "source": [
        "for now we will view a\n",
        "few rows of the dataframe using the rand function to shuffle the records in\n",
        "random order"
      ]
    },
    {
      "cell_type": "code",
      "metadata": {
        "colab": {
          "base_uri": "https://localhost:8080/"
        },
        "id": "qxMHPOdwfPFR",
        "outputId": "4417a930-0220-40e1-a000-e8fa9a4df890"
      },
      "source": [
        "from pyspark.sql.functions import *\n",
        "df.orderBy(rand()).show(10)"
      ],
      "execution_count": null,
      "outputs": [
        {
          "output_type": "stream",
          "text": [
            "+------+--------------------+------+\n",
            "|userId|               title|rating|\n",
            "+------+--------------------+------+\n",
            "|   293|Star Trek III: Th...|     2|\n",
            "|   829|Mighty Aphrodite ...|     4|\n",
            "|   660|      Titanic (1997)|     4|\n",
            "|   239|Gone with the Win...|     3|\n",
            "|   838|Four Weddings and...|     4|\n",
            "|   279|So I Married an A...|     3|\n",
            "|   146|Leave It to Beave...|     1|\n",
            "|   279|  Major Payne (1994)|     4|\n",
            "|   303|City of Lost Chil...|     4|\n",
            "|   180|      Contact (1997)|     5|\n",
            "+------+--------------------+------+\n",
            "only showing top 10 rows\n",
            "\n"
          ],
          "name": "stdout"
        }
      ]
    },
    {
      "cell_type": "code",
      "metadata": {
        "colab": {
          "base_uri": "https://localhost:8080/"
        },
        "id": "h5Xf5L30gxHP",
        "outputId": "3adea66b-6b3e-48dc-8b69-8dd07205720c"
      },
      "source": [
        "df.groupBy('userId').count().orderBy('count',ascending=False).show(10)"
      ],
      "execution_count": null,
      "outputs": [
        {
          "output_type": "stream",
          "text": [
            "+------+-----+\n",
            "|userId|count|\n",
            "+------+-----+\n",
            "|   405|  737|\n",
            "|   655|  685|\n",
            "|    13|  636|\n",
            "|   450|  540|\n",
            "|   276|  518|\n",
            "|   416|  493|\n",
            "|   537|  490|\n",
            "|   303|  484|\n",
            "|   234|  480|\n",
            "|   393|  448|\n",
            "+------+-----+\n",
            "only showing top 10 rows\n",
            "\n"
          ],
          "name": "stdout"
        }
      ]
    },
    {
      "cell_type": "code",
      "metadata": {
        "colab": {
          "base_uri": "https://localhost:8080/"
        },
        "id": "Y4vjLc-3hMYt",
        "outputId": "ab79a3fa-7a69-4b9c-a299-d421888b764b"
      },
      "source": [
        "df.groupBy('userId').count().orderBy('count',ascending=True).show(10)"
      ],
      "execution_count": null,
      "outputs": [
        {
          "output_type": "stream",
          "text": [
            "+------+-----+\n",
            "|userId|count|\n",
            "+------+-----+\n",
            "|   732|   20|\n",
            "|   631|   20|\n",
            "|   636|   20|\n",
            "|   926|   20|\n",
            "|    93|   20|\n",
            "|   596|   20|\n",
            "|   572|   20|\n",
            "|    34|   20|\n",
            "|   300|   20|\n",
            "|   685|   20|\n",
            "+------+-----+\n",
            "only showing top 10 rows\n",
            "\n"
          ],
          "name": "stdout"
        }
      ]
    },
    {
      "cell_type": "markdown",
      "metadata": {
        "id": "SgKWX1yGhTIF"
      },
      "source": [
        "The user with the highest number of records has rated 737 movies, and\n",
        "each user has rated at least 20 movies."
      ]
    },
    {
      "cell_type": "code",
      "metadata": {
        "colab": {
          "base_uri": "https://localhost:8080/"
        },
        "id": "SsC6QOxAhUEN",
        "outputId": "343f2674-98c3-4c37-fc8d-d6f47fc5ade1"
      },
      "source": [
        "df.groupBy('title').count().orderBy('count',ascending=False).show(10)"
      ],
      "execution_count": null,
      "outputs": [
        {
          "output_type": "stream",
          "text": [
            "+--------------------+-----+\n",
            "|               title|count|\n",
            "+--------------------+-----+\n",
            "|    Star Wars (1977)|  583|\n",
            "|      Contact (1997)|  509|\n",
            "|        Fargo (1996)|  508|\n",
            "|Return of the Jed...|  507|\n",
            "|    Liar Liar (1997)|  485|\n",
            "|English Patient, ...|  481|\n",
            "|       Scream (1996)|  478|\n",
            "|    Toy Story (1995)|  452|\n",
            "|Air Force One (1997)|  431|\n",
            "|Independence Day ...|  429|\n",
            "+--------------------+-----+\n",
            "only showing top 10 rows\n",
            "\n"
          ],
          "name": "stdout"
        }
      ]
    },
    {
      "cell_type": "code",
      "metadata": {
        "colab": {
          "base_uri": "https://localhost:8080/"
        },
        "id": "sU7Y2_TnqPtw",
        "outputId": "c1368a6c-2610-4cfd-fad8-4259146bcfae"
      },
      "source": [
        "df.groupBy('title').count().orderBy('count',ascending=True).show(10)"
      ],
      "execution_count": null,
      "outputs": [
        {
          "output_type": "stream",
          "text": [
            "+--------------------+-----+\n",
            "|               title|count|\n",
            "+--------------------+-----+\n",
            "|Aiqing wansui (1994)|    1|\n",
            "|Next Step, The (1...|    1|\n",
            "|Leopard Son, The ...|    1|\n",
            "|Modern Affair, A ...|    1|\n",
            "|    Fear, The (1995)|    1|\n",
            "| Mad Dog Time (1996)|    1|\n",
            "|Lashou shentan (1...|    1|\n",
            "|Vie est belle, La...|    1|\n",
            "|JLG/JLG - autopor...|    1|\n",
            "|       Target (1995)|    1|\n",
            "+--------------------+-----+\n",
            "only showing top 10 rows\n",
            "\n"
          ],
          "name": "stdout"
        }
      ]
    },
    {
      "cell_type": "markdown",
      "metadata": {
        "id": "tNj7PMSuqTQu"
      },
      "source": [
        "the movie with the highest number of ratings is Starwars(1977) and each movie has been rating at least by 1 User."
      ]
    },
    {
      "cell_type": "markdown",
      "metadata": {
        "id": "FWq6upNhqlF8"
      },
      "source": [
        "# Step 4: Feature Engineering"
      ]
    },
    {
      "cell_type": "markdown",
      "metadata": {
        "id": "DdPw1BSWqss0"
      },
      "source": [
        "We now convert the movie title column from categorical to numerical\n",
        "values using StringIndexer. We import the stringIndexer and Indextostring\n",
        "from the PySpark library."
      ]
    },
    {
      "cell_type": "code",
      "metadata": {
        "id": "9madWF-Wq1wE"
      },
      "source": [
        "from pyspark.sql.functions import *\n",
        "from pyspark.ml.feature import StringIndexer,IndexToString"
      ],
      "execution_count": null,
      "outputs": []
    },
    {
      "cell_type": "markdown",
      "metadata": {
        "id": "Gi-uOtlkrhcB"
      },
      "source": [
        "We create the stringindexer object by mentioning the input\n",
        "column and output column. Then we fit the object on the dataframe and\n",
        "apply it on the movie title column to create new dataframe with numerical\n",
        "values."
      ]
    },
    {
      "cell_type": "code",
      "metadata": {
        "id": "m1DwAuffriYO"
      },
      "source": [
        "stringIndexer = StringIndexer(inputCol='title',outputCol='title_new')\n",
        "#applying stringindexer object on dataframe movie title column\n",
        "model = stringIndexer.fit(df)\n",
        "#creating new dataframe with transformed values\n",
        "indexed = model.transform(df)\n",
        "                              "
      ],
      "execution_count": null,
      "outputs": []
    },
    {
      "cell_type": "code",
      "metadata": {
        "colab": {
          "base_uri": "https://localhost:8080/"
        },
        "id": "Xczg5D8bqsGP",
        "outputId": "27513359-d2b1-4918-e8e5-139604af90d5"
      },
      "source": [
        "indexed.orderBy(rand()).show(10)"
      ],
      "execution_count": null,
      "outputs": [
        {
          "output_type": "stream",
          "text": [
            "+------+--------------------+------+---------+\n",
            "|userId|               title|rating|title_new|\n",
            "+------+--------------------+------+---------+\n",
            "|    71| Blade Runner (1982)|     5|     52.0|\n",
            "|   716|  Bob Roberts (1992)|     5|    397.0|\n",
            "|   580|Austin Powers: In...|     5|    241.0|\n",
            "|   547|    Game, The (1997)|     4|     64.0|\n",
            "|   429|Renaissance Man (...|     3|    669.0|\n",
            "|   924|       Scream (1996)|     3|      6.0|\n",
            "|   554|Mission: Impossib...|     4|     22.0|\n",
            "|   524|Shanghai Triad (Y...|     5|    850.0|\n",
            "|    83|   Braveheart (1995)|     5|     37.0|\n",
            "|   275|James and the Gia...|     3|    260.0|\n",
            "+------+--------------------+------+---------+\n",
            "only showing top 10 rows\n",
            "\n"
          ],
          "name": "stdout"
        }
      ]
    },
    {
      "cell_type": "code",
      "metadata": {
        "colab": {
          "base_uri": "https://localhost:8080/"
        },
        "id": "L3eoDbAssqYe",
        "outputId": "0668dae0-ebb3-42fa-ea74-aefbe2b1f3ae"
      },
      "source": [
        "indexed.printSchema()"
      ],
      "execution_count": null,
      "outputs": [
        {
          "output_type": "stream",
          "text": [
            "root\n",
            " |-- userId: integer (nullable = true)\n",
            " |-- title: string (nullable = true)\n",
            " |-- rating: integer (nullable = true)\n",
            " |-- title_new: double (nullable = false)\n",
            "\n"
          ],
          "name": "stdout"
        }
      ]
    },
    {
      "cell_type": "markdown",
      "metadata": {
        "id": "ljl8ys-9s3Hy"
      },
      "source": [
        "# Step 5: Splitting the Dataset"
      ]
    },
    {
      "cell_type": "code",
      "metadata": {
        "id": "zF8cYlcFs5Ae"
      },
      "source": [
        "# We split it into a 75 to 25 ratio to train the model and test its accuracy\n",
        "train_df,test_df = indexed.randomSplit([0.75,0.25])\n"
      ],
      "execution_count": null,
      "outputs": []
    },
    {
      "cell_type": "code",
      "metadata": {
        "colab": {
          "base_uri": "https://localhost:8080/"
        },
        "id": "G-iYgmaetAml",
        "outputId": "e738096c-1d98-42dc-b3f5-4bb41b96e5ae"
      },
      "source": [
        "train_df.count()"
      ],
      "execution_count": null,
      "outputs": [
        {
          "output_type": "execute_result",
          "data": {
            "text/plain": [
              "75044"
            ]
          },
          "metadata": {
            "tags": []
          },
          "execution_count": 26
        }
      ]
    },
    {
      "cell_type": "code",
      "metadata": {
        "colab": {
          "base_uri": "https://localhost:8080/"
        },
        "id": "glxrIEaYtI2F",
        "outputId": "dfa693dc-514b-466d-8ece-a6c38aa6ead5"
      },
      "source": [
        "test_df.count()"
      ],
      "execution_count": null,
      "outputs": [
        {
          "output_type": "execute_result",
          "data": {
            "text/plain": [
              "24956"
            ]
          },
          "metadata": {
            "tags": []
          },
          "execution_count": 27
        }
      ]
    },
    {
      "cell_type": "markdown",
      "metadata": {
        "id": "Mql_zm0ftTqv"
      },
      "source": [
        "# Step 6: Build and Train Recommender Model"
      ]
    },
    {
      "cell_type": "markdown",
      "metadata": {
        "id": "7mIDy5V3tVX9"
      },
      "source": [
        "We import the ALS function from the PySpark ml library and build the\n",
        "model on the training dataset. There are multiple hyperparameters\n",
        "that can be tuned to improve the performance of the model. Two of the\n",
        "important ones are nonnegative =‘True’ doesn’t create negative ratings in\n",
        "recommendations and coldStartStrategy=‘drop’ to prevent any NaN ratings\n",
        "predictions"
      ]
    },
    {
      "cell_type": "code",
      "metadata": {
        "id": "3B-qFPv8tePG"
      },
      "source": [
        "from pyspark.ml.recommendation import ALS\n",
        "rec = ALS(maxIter=10,regParam=0.01,userCol='userId',itemCol='title_new',ratingCol='rating',nonnegative=True,coldStartStrategy=\"drop\")"
      ],
      "execution_count": null,
      "outputs": []
    },
    {
      "cell_type": "code",
      "metadata": {
        "id": "l7x-8EzAuikR"
      },
      "source": [
        "rec_model=rec.fit(train_df)"
      ],
      "execution_count": null,
      "outputs": []
    },
    {
      "cell_type": "markdown",
      "metadata": {
        "id": "PXYG0YzfuweN"
      },
      "source": [
        "# Step 7: Predictions and Evaluation on Test Data"
      ]
    },
    {
      "cell_type": "markdown",
      "metadata": {
        "id": "8-KnBnz_u2-J"
      },
      "source": [
        "Check the performance of the\n",
        "model on unseen or test data. We use the transform function to make\n",
        "predictions on the test data and RegressionEvaluate to check the RMSE\n",
        "value of the model on test data"
      ]
    },
    {
      "cell_type": "code",
      "metadata": {
        "colab": {
          "base_uri": "https://localhost:8080/"
        },
        "id": "UIe0Yfrru8i9",
        "outputId": "4ba65dc0-7258-4385-f92c-440657f7008d"
      },
      "source": [
        "predicted_rating = rec_model.transform(test_df)\n",
        "predicted_rating.printSchema()"
      ],
      "execution_count": null,
      "outputs": [
        {
          "output_type": "stream",
          "text": [
            "root\n",
            " |-- userId: integer (nullable = true)\n",
            " |-- title: string (nullable = true)\n",
            " |-- rating: integer (nullable = true)\n",
            " |-- title_new: double (nullable = false)\n",
            " |-- prediction: float (nullable = false)\n",
            "\n"
          ],
          "name": "stdout"
        }
      ]
    },
    {
      "cell_type": "code",
      "metadata": {
        "colab": {
          "base_uri": "https://localhost:8080/"
        },
        "id": "PgPfnj_0vRB5",
        "outputId": "914e6084-ad04-4741-d3ff-d8cc50c32d36"
      },
      "source": [
        "predicted_rating.orderBy(rand()).show(10)"
      ],
      "execution_count": null,
      "outputs": [
        {
          "output_type": "stream",
          "text": [
            "+------+--------------------+------+---------+----------+\n",
            "|userId|               title|rating|title_new|prediction|\n",
            "+------+--------------------+------+---------+----------+\n",
            "|    65|When We Were King...|     4|    649.0| 3.4903214|\n",
            "|   429|When Harry Met Sa...|     4|     45.0| 3.6515372|\n",
            "|   181| Phantom, The (1996)|     1|    418.0|  1.572057|\n",
            "|   543|Treasure of the S...|     4|    420.0|  4.101422|\n",
            "|   593|      Sabrina (1995)|     3|    128.0| 3.3797655|\n",
            "|   354|    Quiz Show (1994)|     3|    151.0|  3.739589|\n",
            "|   276|Nutty Professor, ...|     4|    179.0| 2.7088554|\n",
            "|   373|        Balto (1995)|     4|    986.0| 1.0898387|\n",
            "|   332|Heaven's Prisoner...|     4|    833.0|  2.590468|\n",
            "|   806|     Die Hard (1988)|     5|     73.0|  3.697603|\n",
            "+------+--------------------+------+---------+----------+\n",
            "only showing top 10 rows\n",
            "\n"
          ],
          "name": "stdout"
        }
      ]
    },
    {
      "cell_type": "code",
      "metadata": {
        "id": "fqzD84Osv0xs"
      },
      "source": [
        "from pyspark.ml.evaluation import RegressionEvaluator\n",
        "evaluator=RegressionEvaluator(metricName='rmse',predictionCol='prediction',labelCol='rating')"
      ],
      "execution_count": null,
      "outputs": []
    },
    {
      "cell_type": "code",
      "metadata": {
        "id": "ndA7uElwwOww"
      },
      "source": [
        "rmse=evaluator.evaluate(predicted_rating)"
      ],
      "execution_count": null,
      "outputs": []
    },
    {
      "cell_type": "code",
      "metadata": {
        "colab": {
          "base_uri": "https://localhost:8080/"
        },
        "id": "Arm6CYTYwavm",
        "outputId": "74ee9613-4a51-40c0-f986-08c452012c37"
      },
      "source": [
        "print(rmse)"
      ],
      "execution_count": null,
      "outputs": [
        {
          "output_type": "stream",
          "text": [
            "1.0225595165259223\n"
          ],
          "name": "stdout"
        }
      ]
    },
    {
      "cell_type": "markdown",
      "metadata": {
        "id": "b32SrY0CwiIk"
      },
      "source": [
        "# Step 8: Recommend Top Movies That Active User Might Like"
      ]
    },
    {
      "cell_type": "markdown",
      "metadata": {
        "id": "8cmYHcBPwosy"
      },
      "source": [
        " recommend top movies to users that they have not\n",
        "seen and might like. The first step is to create a list of unique movies in the\n",
        "dataframe"
      ]
    },
    {
      "cell_type": "code",
      "metadata": {
        "id": "a_DIxRIew8ju"
      },
      "source": [
        "unique_movies=indexed.select('title_new').distinct()"
      ],
      "execution_count": null,
      "outputs": []
    },
    {
      "cell_type": "code",
      "metadata": {
        "colab": {
          "base_uri": "https://localhost:8080/"
        },
        "id": "eB5bFM5exBwA",
        "outputId": "2686c185-bf14-40c8-aac9-10ad675b4286"
      },
      "source": [
        "#number of unique movies\n",
        "unique_movies.count()"
      ],
      "execution_count": null,
      "outputs": [
        {
          "output_type": "execute_result",
          "data": {
            "text/plain": [
              "1664"
            ]
          },
          "metadata": {
            "tags": []
          },
          "execution_count": 84
        }
      ]
    },
    {
      "cell_type": "code",
      "metadata": {
        "id": "owA-t7eXxIiR"
      },
      "source": [
        "#assigning alias name 'a' to unique movies df\n",
        "a = unique_movies.alias('a')"
      ],
      "execution_count": null,
      "outputs": []
    },
    {
      "cell_type": "code",
      "metadata": {
        "id": "I4Rq48EKxLHf"
      },
      "source": [
        "\n",
        "user_id=85"
      ],
      "execution_count": null,
      "outputs": []
    },
    {
      "cell_type": "code",
      "metadata": {
        "id": "ahnB1T2KxTmG"
      },
      "source": [
        "#creating another dataframe which contains already watched movie by active user \n",
        "watched_movies=indexed.filter(indexed['userId'] == user_id).select('title_new').distinct()"
      ],
      "execution_count": null,
      "outputs": []
    },
    {
      "cell_type": "code",
      "metadata": {
        "colab": {
          "base_uri": "https://localhost:8080/"
        },
        "id": "S7LsPaHIxWpy",
        "outputId": "34023fc3-c05d-477e-dca8-f5072ebf5ecc"
      },
      "source": [
        "#number of movies already rated \n",
        "watched_movies.count()"
      ],
      "execution_count": null,
      "outputs": [
        {
          "output_type": "execute_result",
          "data": {
            "text/plain": [
              "287"
            ]
          },
          "metadata": {
            "tags": []
          },
          "execution_count": 88
        }
      ]
    },
    {
      "cell_type": "code",
      "metadata": {
        "id": "jcImfpItxcA3"
      },
      "source": [
        "#assigning alias name 'b' to watched movies df\n",
        "b=watched_movies.alias('b')"
      ],
      "execution_count": null,
      "outputs": []
    },
    {
      "cell_type": "markdown",
      "metadata": {
        "id": "rtL_PQ4qxnk7"
      },
      "source": [
        "We now combine both the tables to find\n",
        "the movies that we can recommend by filtering null values from the joined\n",
        "table."
      ]
    },
    {
      "cell_type": "code",
      "metadata": {
        "id": "x_H31LplxomF"
      },
      "source": [
        "total_movies = a.join(b, a.title_new == b.title_new,how='left')"
      ],
      "execution_count": null,
      "outputs": []
    },
    {
      "cell_type": "code",
      "metadata": {
        "colab": {
          "base_uri": "https://localhost:8080/"
        },
        "id": "lFsxQbMjxwWG",
        "outputId": "e1270dbd-0672-4821-c730-c338f1398f16"
      },
      "source": [
        "total_movies.show(20,False)"
      ],
      "execution_count": null,
      "outputs": [
        {
          "output_type": "stream",
          "text": [
            "+---------+---------+\n",
            "|title_new|title_new|\n",
            "+---------+---------+\n",
            "|558.0    |null     |\n",
            "|305.0    |305.0    |\n",
            "|299.0    |null     |\n",
            "|596.0    |null     |\n",
            "|769.0    |null     |\n",
            "|934.0    |null     |\n",
            "|496.0    |496.0    |\n",
            "|1051.0   |null     |\n",
            "|692.0    |null     |\n",
            "|810.0    |null     |\n",
            "|720.0    |null     |\n",
            "|782.0    |null     |\n",
            "|184.0    |184.0    |\n",
            "|147.0    |147.0    |\n",
            "|576.0    |null     |\n",
            "|170.0    |null     |\n",
            "|1369.0   |null     |\n",
            "|1587.0   |null     |\n",
            "|169.0    |null     |\n",
            "|608.0    |null     |\n",
            "+---------+---------+\n",
            "only showing top 20 rows\n",
            "\n"
          ],
          "name": "stdout"
        }
      ]
    },
    {
      "cell_type": "code",
      "metadata": {
        "id": "9oDAL3qUyGqq"
      },
      "source": [
        "#selecting movies which active user is yet to rate or watch\n",
        "remaining_movies=total_movies.where(col(\"b.title_new\").isNull()).select(a.title_new).distinct()"
      ],
      "execution_count": null,
      "outputs": []
    },
    {
      "cell_type": "code",
      "metadata": {
        "colab": {
          "base_uri": "https://localhost:8080/"
        },
        "id": "qwd69h-PyJij",
        "outputId": "a7912926-e9c4-4005-a498-b44f12130b89"
      },
      "source": [
        "#number of movies user is yet to rate \n",
        "remaining_movies.count()"
      ],
      "execution_count": null,
      "outputs": [
        {
          "output_type": "execute_result",
          "data": {
            "text/plain": [
              "1377"
            ]
          },
          "metadata": {
            "tags": []
          },
          "execution_count": 93
        }
      ]
    },
    {
      "cell_type": "code",
      "metadata": {
        "id": "8mq04pyJyVKw"
      },
      "source": [
        "#adding new column of user_Id of active useer to remaining movies df \n",
        "remaining_movies=remaining_movies.withColumn(\"userId\",lit(int(user_id)))"
      ],
      "execution_count": null,
      "outputs": []
    },
    {
      "cell_type": "code",
      "metadata": {
        "colab": {
          "base_uri": "https://localhost:8080/"
        },
        "id": "BLX7cjgSyXzS",
        "outputId": "bfc8ae6e-1a15-4e17-f3cd-293842c81642"
      },
      "source": [
        "remaining_movies.show(10,False)"
      ],
      "execution_count": null,
      "outputs": [
        {
          "output_type": "stream",
          "text": [
            "+---------+------+\n",
            "|title_new|userId|\n",
            "+---------+------+\n",
            "|558.0    |85    |\n",
            "|299.0    |85    |\n",
            "|596.0    |85    |\n",
            "|769.0    |85    |\n",
            "|934.0    |85    |\n",
            "|1051.0   |85    |\n",
            "|692.0    |85    |\n",
            "|810.0    |85    |\n",
            "|720.0    |85    |\n",
            "|782.0    |85    |\n",
            "+---------+------+\n",
            "only showing top 10 rows\n",
            "\n"
          ],
          "name": "stdout"
        }
      ]
    },
    {
      "cell_type": "markdown",
      "metadata": {
        "id": "uiYru_27yhH2"
      },
      "source": [
        "Finally, we can now make the predictions on this remaining movie’s\n",
        "dataset for the active user using the recommender model that we built\n",
        "earlier. We filter only a few top recommendations that have the highest\n",
        "predicted ratings."
      ]
    },
    {
      "cell_type": "code",
      "metadata": {
        "id": "PNTwqAndyimQ"
      },
      "source": [
        "recommendations=rec_model.transform(remaining_movies).orderBy('prediction',ascending=False)"
      ],
      "execution_count": null,
      "outputs": []
    },
    {
      "cell_type": "code",
      "metadata": {
        "colab": {
          "base_uri": "https://localhost:8080/"
        },
        "id": "IdvhbWZ1zBp2",
        "outputId": "21a76456-6fc2-40a9-c18b-16935c3f4297"
      },
      "source": [
        "recommendations.show(5)"
      ],
      "execution_count": null,
      "outputs": [
        {
          "output_type": "stream",
          "text": [
            "+---------+------+----------+\n",
            "|title_new|userId|prediction|\n",
            "+---------+------+----------+\n",
            "|   1271.0|    85|  5.007507|\n",
            "|    747.0|    85| 4.9752927|\n",
            "|   1286.0|    85| 4.9036617|\n",
            "|    695.0|    85| 4.7419667|\n",
            "|    870.0|    85| 4.7412076|\n",
            "+---------+------+----------+\n",
            "only showing top 5 rows\n",
            "\n"
          ],
          "name": "stdout"
        }
      ]
    },
    {
      "cell_type": "markdown",
      "metadata": {
        "id": "yVnzvkPqzTj4"
      },
      "source": [
        ""
      ]
    },
    {
      "cell_type": "code",
      "metadata": {
        "id": "a-gXx384ys-p"
      },
      "source": [
        "#converting title_new values back to movie titles\n",
        "movie_title = IndexToString(inputCol=\"title_new\", outputCol=\"title\",labels=model.labels)\n",
        "\n",
        "final_recommendations=movie_title.transform(recommendations)"
      ],
      "execution_count": null,
      "outputs": []
    },
    {
      "cell_type": "code",
      "metadata": {
        "colab": {
          "base_uri": "https://localhost:8080/"
        },
        "id": "puxD9rrGzZaz",
        "outputId": "36cd9a5f-f819-4bdf-f02d-bc17699a9473"
      },
      "source": [
        "final_recommendations.show(10,False)"
      ],
      "execution_count": null,
      "outputs": [
        {
          "output_type": "stream",
          "text": [
            "+---------+------+----------+------------------------------------------------------+\n",
            "|title_new|userId|prediction|title                                                 |\n",
            "+---------+------+----------+------------------------------------------------------+\n",
            "|1271.0   |85    |5.007507  |Whole Wide World, The (1996)                          |\n",
            "|747.0    |85    |4.9752927 |Thin Blue Line, The (1988)                            |\n",
            "|1286.0   |85    |4.9036617 |Mina Tannenbaum (1994)                                |\n",
            "|695.0    |85    |4.7419667 |Some Folks Call It a Sling Blade (1993)               |\n",
            "|870.0    |85    |4.7412076 |Microcosmos: Le peuple de l'herbe (1996)              |\n",
            "|961.0    |85    |4.7284765 |Amateur (1994)                                        |\n",
            "|482.0    |85    |4.693382  |Wallace & Gromit: The Best of Aardman Animation (1996)|\n",
            "|1164.0   |85    |4.650778  |Murder, My Sweet (1944)                               |\n",
            "|1354.0   |85    |4.637894  |Crossfire (1947)                                      |\n",
            "|1007.0   |85    |4.625327  |Hard Eight (1996)                                     |\n",
            "+---------+------+----------+------------------------------------------------------+\n",
            "only showing top 10 rows\n",
            "\n"
          ],
          "name": "stdout"
        }
      ]
    }
  ]
}