{
  "nbformat": 4,
  "nbformat_minor": 0,
  "metadata": {
    "colab": {
      "name": "3_Logistic_Regression_pyspark - Copy.ipynb",
      "provenance": [],
      "collapsed_sections": []
    },
    "kernelspec": {
      "name": "python3",
      "display_name": "Python 3"
    }
  },
  "cells": [
    {
      "cell_type": "markdown",
      "metadata": {
        "id": "UIPixOWWqTEW"
      },
      "source": [
        "# Logistic Regression"
      ]
    },
    {
      "cell_type": "markdown",
      "metadata": {
        "id": "ZbSiJ1FZw6lA"
      },
      "source": [
        "# **Logistic Regression**"
      ]
    },
    {
      "cell_type": "markdown",
      "metadata": {
        "id": "X7BM69NGw_4p"
      },
      "source": [
        "*Colab Environ*"
      ]
    },
    {
      "cell_type": "code",
      "metadata": {
        "id": "CnRzfuskrtbA",
        "colab": {
          "base_uri": "https://localhost:8080/"
        },
        "outputId": "f4bebf72-2ce1-4663-f95b-75def7e23fe1"
      },
      "source": [
        "!apt-get update"
      ],
      "execution_count": null,
      "outputs": [
        {
          "output_type": "stream",
          "text": [
            "\r0% [Working]\r            \rHit:1 http://ppa.launchpad.net/c2d4u.team/c2d4u4.0+/ubuntu bionic InRelease\n",
            "\r0% [Waiting for headers] [Waiting for headers] [Connected to cloud.r-project.or\r                                                                               \rHit:2 http://archive.ubuntu.com/ubuntu bionic InRelease\n",
            "\r                                                                               \rGet:3 http://archive.ubuntu.com/ubuntu bionic-updates InRelease [88.7 kB]\n",
            "\r                                                                               \rGet:4 http://security.ubuntu.com/ubuntu bionic-security InRelease [88.7 kB]\n",
            "\r0% [3 InRelease 15.6 kB/88.7 kB 18%] [4 InRelease 43.1 kB/88.7 kB 49%] [Connect\r0% [1 InRelease gpgv 15.9 kB] [3 InRelease 15.6 kB/88.7 kB 18%] [4 InRelease 43\r                                                                               \rHit:5 http://ppa.launchpad.net/graphics-drivers/ppa/ubuntu bionic InRelease\n",
            "\r0% [1 InRelease gpgv 15.9 kB] [3 InRelease 15.6 kB/88.7 kB 18%] [4 InRelease 43\r                                                                               \rHit:6 https://cloud.r-project.org/bin/linux/ubuntu bionic-cran40/ InRelease\n",
            "Get:7 http://archive.ubuntu.com/ubuntu bionic-backports InRelease [74.6 kB]\n",
            "Ign:8 https://developer.download.nvidia.com/compute/cuda/repos/ubuntu1804/x86_64  InRelease\n",
            "Ign:9 https://developer.download.nvidia.com/compute/machine-learning/repos/ubuntu1804/x86_64  InRelease\n",
            "Hit:10 https://developer.download.nvidia.com/compute/cuda/repos/ubuntu1804/x86_64  Release\n",
            "Hit:11 https://developer.download.nvidia.com/compute/machine-learning/repos/ubuntu1804/x86_64  Release\n",
            "Fetched 252 kB in 2s (143 kB/s)\n",
            "Reading package lists... Done\n"
          ],
          "name": "stdout"
        }
      ]
    },
    {
      "cell_type": "code",
      "metadata": {
        "id": "lGUl80P8qZkg"
      },
      "source": [
        "!apt-get install openjdk-8-jdk-headless -qq > /dev/null\n",
        "!wget -q https://downloads.apache.org/spark/spark-2.4.7/spark-2.4.7-bin-hadoop2.7.tgz\n",
        "!tar xf spark-2.4.7-bin-hadoop2.7.tgz\n",
        "!pip install -q findspark"
      ],
      "execution_count": null,
      "outputs": []
    },
    {
      "cell_type": "code",
      "metadata": {
        "id": "1Vdnkqew9ufB"
      },
      "source": [
        "import os\n",
        "os.environ[\"JAVA_HOME\"] = \"/usr/lib/jvm/java-8-openjdk-amd64\"\n",
        "os.environ[\"SPARK_HOME\"] = \"/content/spark-2.4.7-bin-hadoop2.7\""
      ],
      "execution_count": null,
      "outputs": []
    },
    {
      "cell_type": "code",
      "metadata": {
        "id": "bbPaVClJ9vUX"
      },
      "source": [
        "import findspark\n",
        "findspark.init()"
      ],
      "execution_count": null,
      "outputs": []
    },
    {
      "cell_type": "markdown",
      "metadata": {
        "id": "7u-bvHRr96MG"
      },
      "source": [
        "Step **1**: Create the Spark Session Object"
      ]
    },
    {
      "cell_type": "code",
      "metadata": {
        "id": "m32MdXpN-Hn-"
      },
      "source": [
        "from pyspark.sql import SparkSession\n",
        "spark = SparkSession.builder.appName('log_reg').getOrCreate()"
      ],
      "execution_count": null,
      "outputs": []
    },
    {
      "cell_type": "markdown",
      "metadata": {
        "id": "dij6Cwab-U3_"
      },
      "source": [
        "Step **2**: Read the Dataset"
      ]
    },
    {
      "cell_type": "code",
      "metadata": {
        "id": "21BrfFkl-Xnu"
      },
      "source": [
        "df = spark.read.csv('Log_Reg_dataset.csv',inferSchema=True,header=True)"
      ],
      "execution_count": null,
      "outputs": []
    },
    {
      "cell_type": "markdown",
      "metadata": {
        "id": "WAcKjdto-rlC"
      },
      "source": [
        "Step **3**: Exploratory Data Analysis"
      ]
    },
    {
      "cell_type": "code",
      "metadata": {
        "colab": {
          "base_uri": "https://localhost:8080/"
        },
        "id": "F_eVyDy5-wMF",
        "outputId": "c9332f11-b82e-4762-d59c-bc33b23dbe76"
      },
      "source": [
        "print((df.count(),len(df.columns)))"
      ],
      "execution_count": null,
      "outputs": [
        {
          "output_type": "stream",
          "text": [
            "(20000, 6)\n"
          ],
          "name": "stdout"
        }
      ]
    },
    {
      "cell_type": "code",
      "metadata": {
        "colab": {
          "base_uri": "https://localhost:8080/"
        },
        "id": "M_cyWvoZ-_pe",
        "outputId": "bfac1caf-6c71-4691-bf34-f15d4d70c8ac"
      },
      "source": [
        "df.printSchema()"
      ],
      "execution_count": null,
      "outputs": [
        {
          "output_type": "stream",
          "text": [
            "root\n",
            " |-- Country: string (nullable = true)\n",
            " |-- Age: integer (nullable = true)\n",
            " |-- Repeat_Visitor: integer (nullable = true)\n",
            " |-- Platform: string (nullable = true)\n",
            " |-- Web_pages_viewed: integer (nullable = true)\n",
            " |-- Status: integer (nullable = true)\n",
            "\n"
          ],
          "name": "stdout"
        }
      ]
    },
    {
      "cell_type": "markdown",
      "metadata": {
        "id": "dNM3Z7kj-uVf"
      },
      "source": [
        "As we can see, there are two such columns (Country, Platform),\n",
        "which are categorical in nature and hence need to be converted into\n",
        "numerical form. Let’s have a look at the dataset using the show function in\n",
        "Spark."
      ]
    },
    {
      "cell_type": "code",
      "metadata": {
        "colab": {
          "base_uri": "https://localhost:8080/"
        },
        "id": "4VReiqfN_JQ3",
        "outputId": "2a432b01-ffa7-43a9-a87d-433d2b1c0149"
      },
      "source": [
        "df.show(5)"
      ],
      "execution_count": null,
      "outputs": [
        {
          "output_type": "stream",
          "text": [
            "+---------+---+--------------+--------+----------------+------+\n",
            "|  Country|Age|Repeat_Visitor|Platform|Web_pages_viewed|Status|\n",
            "+---------+---+--------------+--------+----------------+------+\n",
            "|    India| 41|             1|   Yahoo|              21|     1|\n",
            "|   Brazil| 28|             1|   Yahoo|               5|     0|\n",
            "|   Brazil| 40|             0|  Google|               3|     0|\n",
            "|Indonesia| 31|             1|    Bing|              15|     1|\n",
            "| Malaysia| 32|             0|  Google|              15|     1|\n",
            "+---------+---+--------------+--------+----------------+------+\n",
            "only showing top 5 rows\n",
            "\n"
          ],
          "name": "stdout"
        }
      ]
    },
    {
      "cell_type": "markdown",
      "metadata": {
        "id": "36xbTNDi_W1-"
      },
      "source": [
        "We can now use the describe function to go over statistical measures of\n",
        "the dataset."
      ]
    },
    {
      "cell_type": "code",
      "metadata": {
        "colab": {
          "base_uri": "https://localhost:8080/"
        },
        "id": "hhGdH41R_XYW",
        "outputId": "bc906e9c-7dcf-4dcf-c462-2509e241024e"
      },
      "source": [
        "df.describe().show()"
      ],
      "execution_count": null,
      "outputs": [
        {
          "output_type": "stream",
          "text": [
            "+-------+--------+-----------------+-----------------+--------+-----------------+------------------+\n",
            "|summary| Country|              Age|   Repeat_Visitor|Platform| Web_pages_viewed|            Status|\n",
            "+-------+--------+-----------------+-----------------+--------+-----------------+------------------+\n",
            "|  count|   20000|            20000|            20000|   20000|            20000|             20000|\n",
            "|   mean|    null|         28.53955|           0.5029|    null|           9.5533|               0.5|\n",
            "| stddev|    null|7.888912950773227|0.500004090187782|    null|6.073903499824976|0.5000125004687693|\n",
            "|    min|  Brazil|               17|                0|    Bing|                1|                 0|\n",
            "|    max|Malaysia|              111|                1|   Yahoo|               29|                 1|\n",
            "+-------+--------+-----------------+-----------------+--------+-----------------+------------------+\n",
            "\n"
          ],
          "name": "stdout"
        }
      ]
    },
    {
      "cell_type": "markdown",
      "metadata": {
        "id": "tbVeviSC_lXm"
      },
      "source": [
        "We can observe that the average age of visitors is close to 28 years, and\n",
        "they view around 9 web pages during the website visit."
      ]
    },
    {
      "cell_type": "markdown",
      "metadata": {
        "id": "C2OM1Aov_qLx"
      },
      "source": [
        "Let us explore individual columns to understand the data in deeper\n",
        "details. The **groupBy** function used along with counts returns the\n",
        "frequency of each of the categories in the data."
      ]
    },
    {
      "cell_type": "code",
      "metadata": {
        "colab": {
          "base_uri": "https://localhost:8080/"
        },
        "id": "AHKIWviL_qwn",
        "outputId": "7aafb1a9-7f7d-4ad1-e29c-9266e10b66f0"
      },
      "source": [
        "df.groupBy('Country').count().show()"
      ],
      "execution_count": null,
      "outputs": [
        {
          "output_type": "stream",
          "text": [
            "+---------+-----+\n",
            "|  Country|count|\n",
            "+---------+-----+\n",
            "| Malaysia| 1218|\n",
            "|    India| 4018|\n",
            "|Indonesia|12178|\n",
            "|   Brazil| 2586|\n",
            "+---------+-----+\n",
            "\n"
          ],
          "name": "stdout"
        }
      ]
    },
    {
      "cell_type": "markdown",
      "metadata": {
        "id": "EvMFaAagGJ0N"
      },
      "source": [
        "So, the maximum number of visitors are from Indonesia, followed by\n",
        "India:"
      ]
    },
    {
      "cell_type": "code",
      "metadata": {
        "colab": {
          "base_uri": "https://localhost:8080/"
        },
        "id": "DLABNfJHGKl7",
        "outputId": "d7b387ae-8bc8-412c-dfdd-ba29c5e82e3d"
      },
      "source": [
        "df.groupBy('Platform').count().show()\n",
        "#The Yahoo search engine users are the highest in numbers."
      ],
      "execution_count": null,
      "outputs": [
        {
          "output_type": "stream",
          "text": [
            "+--------+-----+\n",
            "|Platform|count|\n",
            "+--------+-----+\n",
            "|   Yahoo| 9859|\n",
            "|    Bing| 4360|\n",
            "|  Google| 5781|\n",
            "+--------+-----+\n",
            "\n"
          ],
          "name": "stdout"
        }
      ]
    },
    {
      "cell_type": "code",
      "metadata": {
        "colab": {
          "base_uri": "https://localhost:8080/"
        },
        "id": "2Vz_LRcT_nJj",
        "outputId": "534e1edc-86c9-4c25-8acf-efc79bcf4559"
      },
      "source": [
        "df.groupBy('Status').count().show()"
      ],
      "execution_count": null,
      "outputs": [
        {
          "output_type": "stream",
          "text": [
            "+------+-----+\n",
            "|Status|count|\n",
            "+------+-----+\n",
            "|     1|10000|\n",
            "|     0|10000|\n",
            "+------+-----+\n",
            "\n"
          ],
          "name": "stdout"
        }
      ]
    },
    {
      "cell_type": "markdown",
      "metadata": {
        "id": "eP_YXgMVGlWd"
      },
      "source": [
        "We have an equal number of users who are converted and nonconverted."
      ]
    },
    {
      "cell_type": "markdown",
      "metadata": {
        "id": "fyepvtRDGquw"
      },
      "source": [
        "Let’s use the groupBy function along with the mean to know more\n",
        "about the dataset."
      ]
    },
    {
      "cell_type": "code",
      "metadata": {
        "colab": {
          "base_uri": "https://localhost:8080/"
        },
        "id": "eqGFxltLGrV5",
        "outputId": "68149be0-983a-477b-a5e5-7cf497a5740d"
      },
      "source": [
        "df.groupBy('Country').mean().show()"
      ],
      "execution_count": null,
      "outputs": [
        {
          "output_type": "stream",
          "text": [
            "+---------+------------------+-------------------+---------------------+--------------------+\n",
            "|  Country|          avg(Age)|avg(Repeat_Visitor)|avg(Web_pages_viewed)|         avg(Status)|\n",
            "+---------+------------------+-------------------+---------------------+--------------------+\n",
            "| Malaysia|27.792282430213465| 0.5730706075533661|   11.192118226600986|  0.6568144499178982|\n",
            "|    India|27.976854156296664| 0.5433051269288203|   10.727227476356397|  0.6212045793927327|\n",
            "|Indonesia| 28.43159796354081| 0.5207751683363442|    9.985711939563148|  0.5422893742814913|\n",
            "|   Brazil|30.274168600154677|  0.322892498066512|    4.921113689095128|0.038669760247486466|\n",
            "+---------+------------------+-------------------+---------------------+--------------------+\n",
            "\n"
          ],
          "name": "stdout"
        }
      ]
    },
    {
      "cell_type": "markdown",
      "metadata": {
        "id": "_v0_UzIUG-Yl"
      },
      "source": [
        "We have the highest conversion rate from Malaysia, followed by India.\n",
        "The average number of web page visits is highest in Malaysia and lowest in\n",
        "Brazil."
      ]
    },
    {
      "cell_type": "code",
      "metadata": {
        "colab": {
          "base_uri": "https://localhost:8080/"
        },
        "id": "1tphApu0HAsz",
        "outputId": "2b523e2d-9857-41f5-86ac-67a29b8c073c"
      },
      "source": [
        "df.groupBy('Platform').mean().show()"
      ],
      "execution_count": null,
      "outputs": [
        {
          "output_type": "stream",
          "text": [
            "+--------+------------------+-------------------+---------------------+------------------+\n",
            "|Platform|          avg(Age)|avg(Repeat_Visitor)|avg(Web_pages_viewed)|       avg(Status)|\n",
            "+--------+------------------+-------------------+---------------------+------------------+\n",
            "|   Yahoo|28.569226087838523| 0.5094837204584644|    9.599655137437875|0.5071508266558474|\n",
            "|    Bing| 28.68394495412844| 0.4720183486238532|    9.114908256880733|0.4559633027522936|\n",
            "|  Google|28.380038055699707| 0.5149628092025601|    9.804878048780488|0.5210171250648676|\n",
            "+--------+------------------+-------------------+---------------------+------------------+\n",
            "\n"
          ],
          "name": "stdout"
        }
      ]
    },
    {
      "cell_type": "markdown",
      "metadata": {
        "id": "YxKROPePHbYK"
      },
      "source": [
        "We have the highest conversion rate from user visitors use the Google\n",
        "search engine."
      ]
    },
    {
      "cell_type": "code",
      "metadata": {
        "colab": {
          "base_uri": "https://localhost:8080/"
        },
        "id": "cGaVG0bgHcTh",
        "outputId": "269f5254-a755-4289-e93f-0179692185c6"
      },
      "source": [
        "df.groupBy('Status').mean().show()"
      ],
      "execution_count": null,
      "outputs": [
        {
          "output_type": "stream",
          "text": [
            "+------+--------+-------------------+---------------------+-----------+\n",
            "|Status|avg(Age)|avg(Repeat_Visitor)|avg(Web_pages_viewed)|avg(Status)|\n",
            "+------+--------+-------------------+---------------------+-----------+\n",
            "|     1| 26.5435|             0.7019|              14.5617|        1.0|\n",
            "|     0| 30.5356|             0.3039|               4.5449|        0.0|\n",
            "+------+--------+-------------------+---------------------+-----------+\n",
            "\n"
          ],
          "name": "stdout"
        }
      ]
    },
    {
      "cell_type": "markdown",
      "metadata": {
        "id": "GzEfRdY6HAKT"
      },
      "source": [
        "We can clearly see there is a strong connection between the conversion\n",
        "status and the number of pages viewed along with repeat visits."
      ]
    },
    {
      "cell_type": "markdown",
      "metadata": {
        "id": "6R24mLWnHrKV"
      },
      "source": [
        "## Step 4: Feature Engineering"
      ]
    },
    {
      "cell_type": "markdown",
      "metadata": {
        "id": "jgtO2qgdHuYT"
      },
      "source": [
        "This is the part where we convert the categorical variable into numerical\n",
        "form and create a single vector combining all the input features by using\n",
        "Spark’s **VectorAssembler**"
      ]
    },
    {
      "cell_type": "code",
      "metadata": {
        "id": "Vt7iaJv0HzkY"
      },
      "source": [
        "from pyspark.ml.feature import StringIndexer\n",
        "from pyspark.ml.feature import VectorAssembler"
      ],
      "execution_count": null,
      "outputs": []
    },
    {
      "cell_type": "markdown",
      "metadata": {
        "id": "Gf800eH4IELD"
      },
      "source": [
        "Since we are dealing with two categorical columns, we will have to\n",
        "convert the country and Platform columns into numerical form"
      ]
    },
    {
      "cell_type": "markdown",
      "metadata": {
        "id": "vC769a1VIH8C"
      },
      "source": [
        "*The first step is to label the column using StringIndexer into\n",
        "numerical form*"
      ]
    },
    {
      "cell_type": "code",
      "metadata": {
        "id": "74LYVkd1IjPe"
      },
      "source": [
        "platform_indexer = StringIndexer(inputCol='Platform',outputCol='Platform_num').fit(df)\n",
        "df = platform_indexer.transform(df)\n"
      ],
      "execution_count": null,
      "outputs": []
    },
    {
      "cell_type": "code",
      "metadata": {
        "colab": {
          "base_uri": "https://localhost:8080/"
        },
        "id": "BTbk-VPHJXG5",
        "outputId": "789e9cdd-6e61-4256-9846-7a6cb06fb646"
      },
      "source": [
        "df.show(5)"
      ],
      "execution_count": null,
      "outputs": [
        {
          "output_type": "stream",
          "text": [
            "+---------+---+--------------+--------+----------------+------+------------+\n",
            "|  Country|Age|Repeat_Visitor|Platform|Web_pages_viewed|Status|Platform_num|\n",
            "+---------+---+--------------+--------+----------------+------+------------+\n",
            "|    India| 41|             1|   Yahoo|              21|     1|         0.0|\n",
            "|   Brazil| 28|             1|   Yahoo|               5|     0|         0.0|\n",
            "|   Brazil| 40|             0|  Google|               3|     0|         1.0|\n",
            "|Indonesia| 31|             1|    Bing|              15|     1|         2.0|\n",
            "| Malaysia| 32|             0|  Google|              15|     1|         1.0|\n",
            "+---------+---+--------------+--------+----------------+------+------------+\n",
            "only showing top 5 rows\n",
            "\n"
          ],
          "name": "stdout"
        }
      ]
    },
    {
      "cell_type": "markdown",
      "metadata": {
        "id": "oHew0L7rJnR8"
      },
      "source": [
        "The next step is to represent each of these values into the form of a\n",
        "one hot encoded vector. However, this vector is a little different in terms of\n",
        "representation as it captures the values and position of the values in the vector."
      ]
    },
    {
      "cell_type": "code",
      "metadata": {
        "id": "gv982zYEJoRH"
      },
      "source": [
        "from pyspark.ml.feature import OneHotEncoder\n",
        "platform_encoder = OneHotEncoder(inputCol='Platform_num',outputCol='Platform_vector')\n",
        "df =platform_encoder.transform(df)"
      ],
      "execution_count": null,
      "outputs": []
    },
    {
      "cell_type": "code",
      "metadata": {
        "colab": {
          "base_uri": "https://localhost:8080/"
        },
        "id": "6bgGjJw3Kon3",
        "outputId": "237cd84e-32ae-43de-e699-389a8bff73c6"
      },
      "source": [
        "df.show(4)"
      ],
      "execution_count": null,
      "outputs": [
        {
          "output_type": "stream",
          "text": [
            "+---------+---+--------------+--------+----------------+------+------------+---------------+\n",
            "|  Country|Age|Repeat_Visitor|Platform|Web_pages_viewed|Status|Platform_num|Platform_vector|\n",
            "+---------+---+--------------+--------+----------------+------+------------+---------------+\n",
            "|    India| 41|             1|   Yahoo|              21|     1|         0.0|  (2,[0],[1.0])|\n",
            "|   Brazil| 28|             1|   Yahoo|               5|     0|         0.0|  (2,[0],[1.0])|\n",
            "|   Brazil| 40|             0|  Google|               3|     0|         1.0|  (2,[1],[1.0])|\n",
            "|Indonesia| 31|             1|    Bing|              15|     1|         2.0|      (2,[],[])|\n",
            "+---------+---+--------------+--------+----------------+------+------------+---------------+\n",
            "only showing top 4 rows\n",
            "\n"
          ],
          "name": "stdout"
        }
      ]
    },
    {
      "cell_type": "code",
      "metadata": {
        "colab": {
          "base_uri": "https://localhost:8080/"
        },
        "id": "F9AcVVeFK8hF",
        "outputId": "5f3f0e17-9d4d-4e21-cf6f-27c070cf50d0"
      },
      "source": [
        "df.groupBy('platform_Vector').count().orderBy('count',ascending=False).show(5,False)"
      ],
      "execution_count": null,
      "outputs": [
        {
          "output_type": "stream",
          "text": [
            "+---------------+-----+\n",
            "|platform_Vector|count|\n",
            "+---------------+-----+\n",
            "|(2,[0],[1.0])  |9859 |\n",
            "|(2,[1],[1.0])  |5781 |\n",
            "|(2,[],[])      |4360 |\n",
            "+---------------+-----+\n",
            "\n"
          ],
          "name": "stdout"
        }
      ]
    },
    {
      "cell_type": "markdown",
      "metadata": {
        "id": "-sjyHKKdK78F"
      },
      "source": [
        "The final feature that we would be using for building Logistic\n",
        "Regression is platform_Vector. Let’s understand what these column\n",
        "values represent"
      ]
    },
    {
      "cell_type": "markdown",
      "metadata": {
        "id": "HeAStwToLKze"
      },
      "source": [
        "(2,[0],[1.0]) represents a vector of length 2 , with 1 value :\n",
        "Size of Vector – 2\n",
        "Value contained in vector – 1.0\n",
        "Position of 1.0 value in vector – 0th place"
      ]
    },
    {
      "cell_type": "markdown",
      "metadata": {
        "id": "dtnqOvheLmRQ"
      },
      "source": [
        " **Repeat the same procedure for the other categorical column\n",
        "(Country)**"
      ]
    },
    {
      "cell_type": "code",
      "metadata": {
        "id": "uo9mfk-lMVZo"
      },
      "source": [
        "country_indexer = StringIndexer(inputCol='Country',outputCol='Country_num').fit(df)\n",
        "df = country_indexer.transform(df)\n"
      ],
      "execution_count": null,
      "outputs": []
    },
    {
      "cell_type": "code",
      "metadata": {
        "colab": {
          "base_uri": "https://localhost:8080/"
        },
        "id": "xaSlFTMfMslj",
        "outputId": "cadd882d-63c6-428c-80d5-1ba3ffa5011a"
      },
      "source": [
        "df.groupBy('Country').count().show()"
      ],
      "execution_count": null,
      "outputs": [
        {
          "output_type": "stream",
          "text": [
            "+---------+-----+\n",
            "|  Country|count|\n",
            "+---------+-----+\n",
            "| Malaysia| 1218|\n",
            "|    India| 4018|\n",
            "|Indonesia|12178|\n",
            "|   Brazil| 2586|\n",
            "+---------+-----+\n",
            "\n"
          ],
          "name": "stdout"
        }
      ]
    },
    {
      "cell_type": "code",
      "metadata": {
        "colab": {
          "base_uri": "https://localhost:8080/"
        },
        "id": "BwdrkPdMM2Os",
        "outputId": "d8d084e4-c0bc-42f1-c5ae-4a122474508e"
      },
      "source": [
        "df.groupBy('Country_num').count().show()"
      ],
      "execution_count": null,
      "outputs": [
        {
          "output_type": "stream",
          "text": [
            "+-----------+-----+\n",
            "|Country_num|count|\n",
            "+-----------+-----+\n",
            "|        0.0|12178|\n",
            "|        1.0| 4018|\n",
            "|        3.0| 1218|\n",
            "|        2.0| 2586|\n",
            "+-----------+-----+\n",
            "\n"
          ],
          "name": "stdout"
        }
      ]
    },
    {
      "cell_type": "code",
      "metadata": {
        "id": "j67OlYT3M7si"
      },
      "source": [
        "country_vector =  OneHotEncoder(inputCol='Country_num',outputCol=\"Country_Vector\")\n",
        "df= country_vector.transform(df)"
      ],
      "execution_count": null,
      "outputs": []
    },
    {
      "cell_type": "code",
      "metadata": {
        "colab": {
          "base_uri": "https://localhost:8080/"
        },
        "id": "vUjL2spVNU_8",
        "outputId": "fd2cbe87-a68c-4559-e8cc-184c79caf06d"
      },
      "source": [
        "df.select(['Country','Country_num','Country_Vector']).show(5)"
      ],
      "execution_count": null,
      "outputs": [
        {
          "output_type": "stream",
          "text": [
            "+---------+-----------+--------------+\n",
            "|  Country|Country_num|Country_Vector|\n",
            "+---------+-----------+--------------+\n",
            "|    India|        1.0| (3,[1],[1.0])|\n",
            "|   Brazil|        2.0| (3,[2],[1.0])|\n",
            "|   Brazil|        2.0| (3,[2],[1.0])|\n",
            "|Indonesia|        0.0| (3,[0],[1.0])|\n",
            "| Malaysia|        3.0|     (3,[],[])|\n",
            "+---------+-----------+--------------+\n",
            "only showing top 5 rows\n",
            "\n"
          ],
          "name": "stdout"
        }
      ]
    },
    {
      "cell_type": "markdown",
      "metadata": {
        "id": "5ynHZxBcLq8T"
      },
      "source": [
        ""
      ]
    },
    {
      "cell_type": "code",
      "metadata": {
        "colab": {
          "base_uri": "https://localhost:8080/"
        },
        "id": "e8x7iErkLcY_",
        "outputId": "50dc3757-cff2-41fb-9820-0cbd6481b88a"
      },
      "source": [
        "df.groupBy('Country_Vector').count().orderBy('count',ascending=False).show(5)"
      ],
      "execution_count": null,
      "outputs": [
        {
          "output_type": "stream",
          "text": [
            "+--------------+-----+\n",
            "|Country_Vector|count|\n",
            "+--------------+-----+\n",
            "| (3,[0],[1.0])|12178|\n",
            "| (3,[1],[1.0])| 4018|\n",
            "| (3,[2],[1.0])| 2586|\n",
            "|     (3,[],[])| 1218|\n",
            "+--------------+-----+\n",
            "\n"
          ],
          "name": "stdout"
        }
      ]
    },
    {
      "cell_type": "markdown",
      "metadata": {
        "id": "seYN4QkkPLq6"
      },
      "source": [
        "Now that we have converted both the categorical columns into\n",
        "numerical forms, we need to assemble all of the input columns into a\n",
        "single vector that would act as the input feature for the model."
      ]
    },
    {
      "cell_type": "code",
      "metadata": {
        "id": "eRh7ziO_PMRS"
      },
      "source": [
        "df_assembler = VectorAssembler(inputCols=['Platform_vector','Country_Vector','Age','Repeat_Visitor','Web_pages_viewed'],outputCol='features')\n"
      ],
      "execution_count": null,
      "outputs": []
    },
    {
      "cell_type": "code",
      "metadata": {
        "id": "RA_0OTJwOFWm"
      },
      "source": [
        "df = df_assembler.transform(df)\n"
      ],
      "execution_count": null,
      "outputs": []
    },
    {
      "cell_type": "code",
      "metadata": {
        "colab": {
          "base_uri": "https://localhost:8080/"
        },
        "id": "Kc3YDIssOyc_",
        "outputId": "7b4392ca-1fcf-4641-8a27-4f63b173d122"
      },
      "source": [
        "df.printSchema()"
      ],
      "execution_count": null,
      "outputs": [
        {
          "output_type": "stream",
          "text": [
            "root\n",
            " |-- Country: string (nullable = true)\n",
            " |-- Age: integer (nullable = true)\n",
            " |-- Repeat_Visitor: integer (nullable = true)\n",
            " |-- Platform: string (nullable = true)\n",
            " |-- Web_pages_viewed: integer (nullable = true)\n",
            " |-- Status: integer (nullable = true)\n",
            " |-- Platform_num: double (nullable = false)\n",
            " |-- Platform_vector: vector (nullable = true)\n",
            " |-- Country_num: double (nullable = false)\n",
            " |-- Country_Vector: vector (nullable = true)\n",
            " |-- features: vector (nullable = true)\n",
            "\n"
          ],
          "name": "stdout"
        }
      ]
    },
    {
      "cell_type": "markdown",
      "metadata": {
        "id": "fdXRC3y8QQhp"
      },
      "source": [
        "As we can see, now we have one extra column named features, which\n",
        "is nothing but a combination of all the input features represented as a\n",
        "single dense vector."
      ]
    },
    {
      "cell_type": "code",
      "metadata": {
        "colab": {
          "base_uri": "https://localhost:8080/"
        },
        "id": "Go0o6ADdQSGr",
        "outputId": "45c57da7-605e-4cc6-f883-ffeede9dd3ca"
      },
      "source": [
        "df.select(['features','Status']).show(8)"
      ],
      "execution_count": null,
      "outputs": [
        {
          "output_type": "stream",
          "text": [
            "+--------------------+------+\n",
            "|            features|Status|\n",
            "+--------------------+------+\n",
            "|[1.0,0.0,0.0,1.0,...|     1|\n",
            "|[1.0,0.0,0.0,0.0,...|     0|\n",
            "|(8,[1,4,5,7],[1.0...|     0|\n",
            "|(8,[2,5,6,7],[1.0...|     1|\n",
            "|(8,[1,5,7],[1.0,3...|     1|\n",
            "|(8,[1,4,5,7],[1.0...|     0|\n",
            "|(8,[1,4,5,7],[1.0...|     0|\n",
            "|(8,[1,2,5,7],[1.0...|     0|\n",
            "+--------------------+------+\n",
            "only showing top 8 rows\n",
            "\n"
          ],
          "name": "stdout"
        }
      ]
    },
    {
      "cell_type": "code",
      "metadata": {
        "id": "wUX681HDRKpT"
      },
      "source": [
        "model_df = df.select(['features','Status'])"
      ],
      "execution_count": null,
      "outputs": []
    },
    {
      "cell_type": "markdown",
      "metadata": {
        "id": "zcAdxR1yQuZK"
      },
      "source": [
        "## Step 5: Splitting the Dataset"
      ]
    },
    {
      "cell_type": "code",
      "metadata": {
        "id": "JumJWZCoQy0E"
      },
      "source": [
        "training_df,test_df = model_df.randomSplit([0.75,0.25])\n"
      ],
      "execution_count": null,
      "outputs": []
    },
    {
      "cell_type": "code",
      "metadata": {
        "colab": {
          "base_uri": "https://localhost:8080/"
        },
        "id": "n3FFzVt1RFGm",
        "outputId": "dba61551-bc36-4019-bec8-737b8214f479"
      },
      "source": [
        "print(training_df.count())"
      ],
      "execution_count": null,
      "outputs": [
        {
          "output_type": "stream",
          "text": [
            "15023\n"
          ],
          "name": "stdout"
        }
      ]
    },
    {
      "cell_type": "code",
      "metadata": {
        "colab": {
          "base_uri": "https://localhost:8080/"
        },
        "id": "m-DUTfDvRTNJ",
        "outputId": "8ea78e29-97de-437b-e8b6-4c630c53f3d7"
      },
      "source": [
        "training_df.groupBy('Status').count().show()"
      ],
      "execution_count": null,
      "outputs": [
        {
          "output_type": "stream",
          "text": [
            "+------+-----+\n",
            "|Status|count|\n",
            "+------+-----+\n",
            "|     1| 7581|\n",
            "|     0| 7442|\n",
            "+------+-----+\n",
            "\n"
          ],
          "name": "stdout"
        }
      ]
    },
    {
      "cell_type": "markdown",
      "metadata": {
        "id": "2b0ilFxGRayN"
      },
      "source": [
        "This ensures we have a balance set of the target class (Status) into the\n",
        "training and test set."
      ]
    },
    {
      "cell_type": "code",
      "metadata": {
        "colab": {
          "base_uri": "https://localhost:8080/"
        },
        "id": "X9pMsBHDRbpP",
        "outputId": "95408dee-ef19-43d9-c324-630387b23e82"
      },
      "source": [
        "test_df.groupBy('Status').count().show()"
      ],
      "execution_count": null,
      "outputs": [
        {
          "output_type": "stream",
          "text": [
            "+------+-----+\n",
            "|Status|count|\n",
            "+------+-----+\n",
            "|     1| 2419|\n",
            "|     0| 2558|\n",
            "+------+-----+\n",
            "\n"
          ],
          "name": "stdout"
        }
      ]
    },
    {
      "cell_type": "markdown",
      "metadata": {
        "id": "X_XmuwDoRonQ"
      },
      "source": [
        "Step **6**: Build and Train Logistic Regression Model"
      ]
    },
    {
      "cell_type": "markdown",
      "metadata": {
        "id": "P8KH2ljCRtnm"
      },
      "source": [
        "In this part, we build and train the logistic regression model using features\n",
        "as the input column and status as the output column."
      ]
    },
    {
      "cell_type": "code",
      "metadata": {
        "id": "lNLkDZDcRuNU"
      },
      "source": [
        "from pyspark.ml.classification import LogisticRegression\n",
        "log_reg = LogisticRegression(labelCol='Status').fit(training_df)"
      ],
      "execution_count": null,
      "outputs": []
    },
    {
      "cell_type": "markdown",
      "metadata": {
        "id": "_mgq9OTnSMPT"
      },
      "source": [
        "## Training Results"
      ]
    },
    {
      "cell_type": "markdown",
      "metadata": {
        "id": "UqvfVvS-SS2I"
      },
      "source": [
        "We can access the predictions made by the model using the evaluate\n",
        "function in Spark that executes all the steps in an optimized way. That\n",
        "gives another Dataframe that contains four columns in total, including\n",
        "prediction and probability. The prediction column signifies the class\n",
        "label that the model has predicted for the given row and probability\n",
        "column contains two probabilities (probability for negative class at 0th\n",
        "index and probability for positive class at 1st index)"
      ]
    },
    {
      "cell_type": "code",
      "metadata": {
        "id": "CNaUGhXVSq36"
      },
      "source": [
        "train_results=log_reg.evaluate(training_df).predictions"
      ],
      "execution_count": null,
      "outputs": []
    },
    {
      "cell_type": "code",
      "metadata": {
        "colab": {
          "base_uri": "https://localhost:8080/"
        },
        "id": "GMYWVZ2IRqXj",
        "outputId": "37f84c56-9a5c-4f50-a9e9-604b8e847f66"
      },
      "source": [
        "train_results.filter(train_results['Status']==1).filter(train_results['prediction']==1).select(['Status',\n",
        "'prediction','probability']).show(5,False)"
      ],
      "execution_count": null,
      "outputs": [
        {
          "output_type": "stream",
          "text": [
            "+------+----------+---------------------------------------+\n",
            "|Status|prediction|probability                            |\n",
            "+------+----------+---------------------------------------+\n",
            "|1     |1.0       |[0.2988542166633331,0.7011457833366669]|\n",
            "|1     |1.0       |[0.2988542166633331,0.7011457833366669]|\n",
            "|1     |1.0       |[0.1664464152266984,0.8335535847733015]|\n",
            "|1     |1.0       |[0.08554472838577191,0.914455271614228]|\n",
            "|1     |1.0       |[0.08554472838577191,0.914455271614228]|\n",
            "+------+----------+---------------------------------------+\n",
            "only showing top 5 rows\n",
            "\n"
          ],
          "name": "stdout"
        }
      ]
    },
    {
      "cell_type": "markdown",
      "metadata": {
        "id": "AooQhV0sThpm"
      },
      "source": [
        "So, in the above results, probability at the 0th index is for Status = 0\n",
        "and probability as 1st index is for Status =1"
      ]
    },
    {
      "cell_type": "markdown",
      "metadata": {
        "id": "crk7Z87JTjhn"
      },
      "source": [
        "### Step : Evaluate Linear Regression Model on Test Data"
      ]
    },
    {
      "cell_type": "code",
      "metadata": {
        "id": "HhSlg3ICT3iq"
      },
      "source": [
        "results = log_reg.evaluate(test_df).predictions"
      ],
      "execution_count": null,
      "outputs": []
    },
    {
      "cell_type": "code",
      "metadata": {
        "colab": {
          "base_uri": "https://localhost:8080/"
        },
        "id": "5PcuWXv9UO7J",
        "outputId": "38227d4e-3e49-4c64-8d5d-23786ed61a1c"
      },
      "source": [
        "results.select(['Status','prediction']).show(20,False)"
      ],
      "execution_count": null,
      "outputs": [
        {
          "output_type": "stream",
          "text": [
            "+------+----------+\n",
            "|Status|prediction|\n",
            "+------+----------+\n",
            "|0     |0.0       |\n",
            "|0     |0.0       |\n",
            "|0     |0.0       |\n",
            "|0     |0.0       |\n",
            "|0     |0.0       |\n",
            "|0     |0.0       |\n",
            "|0     |0.0       |\n",
            "|0     |0.0       |\n",
            "|0     |0.0       |\n",
            "|0     |0.0       |\n",
            "|0     |0.0       |\n",
            "|0     |0.0       |\n",
            "|1     |0.0       |\n",
            "|0     |1.0       |\n",
            "|1     |1.0       |\n",
            "|0     |1.0       |\n",
            "|1     |1.0       |\n",
            "|1     |1.0       |\n",
            "|1     |1.0       |\n",
            "|0     |1.0       |\n",
            "+------+----------+\n",
            "only showing top 20 rows\n",
            "\n"
          ],
          "name": "stdout"
        }
      ]
    },
    {
      "cell_type": "markdown",
      "metadata": {
        "id": "fZ9zTllKUaCf"
      },
      "source": [
        "Since this is a classification problem, we will use a confusion matrix to\n",
        "gauge the performance of the model."
      ]
    },
    {
      "cell_type": "markdown",
      "metadata": {
        "id": "e6vcU5PoUbAd"
      },
      "source": [
        "## Confusion Matrix"
      ]
    },
    {
      "cell_type": "markdown",
      "metadata": {
        "id": "945JJbgVUmlL"
      },
      "source": [
        "We will manually create the variables for true positives, true negatives,\n",
        "false positives, and false negatives to understand them better rather than\n",
        "using the direct inbuilt function."
      ]
    },
    {
      "cell_type": "code",
      "metadata": {
        "id": "UCwcx7IRUpjL"
      },
      "source": [
        "tp = results[(results.Status == 1) & (results.prediction== 1)].count()\n",
        "tn = results[(results.Status == 0) & (results.prediction== 0)].count()\n",
        "fp = results[(results.Status == 0) & (results.prediction== 1)].count()\n",
        "fn = results[(results.Status == 1) & (results.prediction== 0)].count()"
      ],
      "execution_count": null,
      "outputs": []
    },
    {
      "cell_type": "markdown",
      "metadata": {
        "id": "3mNeCFQeVQpF"
      },
      "source": [
        "### Accuracy"
      ]
    },
    {
      "cell_type": "code",
      "metadata": {
        "colab": {
          "base_uri": "https://localhost:8080/"
        },
        "id": "Bw01lduLVSRx",
        "outputId": "3413f645-721c-4179-a8aa-cdb85255a27e"
      },
      "source": [
        "accuracy=float((tp+tn) /(results.count()))\n",
        "print(accuracy)"
      ],
      "execution_count": null,
      "outputs": [
        {
          "output_type": "stream",
          "text": [
            "0.9391199517781796\n"
          ],
          "name": "stdout"
        }
      ]
    },
    {
      "cell_type": "markdown",
      "metadata": {
        "id": "n758nt_rVf0T"
      },
      "source": [
        "## Recall"
      ]
    },
    {
      "cell_type": "code",
      "metadata": {
        "colab": {
          "base_uri": "https://localhost:8080/"
        },
        "id": "GAVPLbfBVipg",
        "outputId": "1e5d3eb3-f283-472d-9783-0cbdc410bda4"
      },
      "source": [
        "recall = float(tp)/(tp + fn)\n",
        "print(recall)"
      ],
      "execution_count": null,
      "outputs": [
        {
          "output_type": "stream",
          "text": [
            "0.9388176932616784\n"
          ],
          "name": "stdout"
        }
      ]
    },
    {
      "cell_type": "markdown",
      "metadata": {
        "id": "gTfx1CqnVPvd"
      },
      "source": [
        "## Precision"
      ]
    },
    {
      "cell_type": "code",
      "metadata": {
        "colab": {
          "base_uri": "https://localhost:8080/"
        },
        "id": "xbmkQBJMWNOt",
        "outputId": "eb04d771-0ac2-45fc-dd26-078ac51ef650"
      },
      "source": [
        "precision = float(tp) / (tp +fp)\n",
        "print(precision)"
      ],
      "execution_count": null,
      "outputs": [
        {
          "output_type": "stream",
          "text": [
            "0.9361088211046991\n"
          ],
          "name": "stdout"
        }
      ]
    }
  ]
}