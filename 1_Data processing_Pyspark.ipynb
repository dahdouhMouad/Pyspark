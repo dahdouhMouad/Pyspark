{
  "nbformat": 4,
  "nbformat_minor": 0,
  "metadata": {
    "colab": {
      "name": "Pyspark.ipynb",
      "provenance": [],
      "collapsed_sections": []
    },
    "kernelspec": {
      "name": "python3",
      "display_name": "Python 3"
    }
  },
  "cells": [
    {
      "cell_type": "code",
      "metadata": {
        "colab": {
          "base_uri": "https://localhost:8080/"
        },
        "id": "bQ4F79kTMqJk",
        "outputId": "1b66dff1-2906-4e1a-db65-246d12048132"
      },
      "source": [
        "!apt-get update"
      ],
      "execution_count": 3,
      "outputs": [
        {
          "output_type": "stream",
          "text": [
            "\r0% [Working]\r            \rIgn:1 https://developer.download.nvidia.com/compute/cuda/repos/ubuntu1804/x86_64  InRelease\n",
            "\r0% [Waiting for headers] [Waiting for headers] [Waiting for headers] [Waiting f\r                                                                               \rGet:2 https://cloud.r-project.org/bin/linux/ubuntu bionic-cran40/ InRelease [3,626 B]\n",
            "\r0% [Waiting for headers] [Waiting for headers] [2 InRelease 3,626 B/3,626 B 100\r0% [Waiting for headers] [Waiting for headers] [Waiting for headers] [Waiting f\r0% [2 InRelease gpgv 3,626 B] [Waiting for headers] [Waiting for headers] [Wait\r                                                                               \rGet:3 http://security.ubuntu.com/ubuntu bionic-security InRelease [88.7 kB]\n",
            "\r0% [2 InRelease gpgv 3,626 B] [Waiting for headers] [3 InRelease 14.2 kB/88.7 k\r                                                                               \rIgn:4 https://developer.download.nvidia.com/compute/machine-learning/repos/ubuntu1804/x86_64  InRelease\n",
            "\r0% [2 InRelease gpgv 3,626 B] [Waiting for headers] [3 InRelease 14.2 kB/88.7 k\r                                                                               \rHit:5 http://archive.ubuntu.com/ubuntu bionic InRelease\n",
            "\r0% [2 InRelease gpgv 3,626 B] [3 InRelease 14.2 kB/88.7 kB 16%] [Waiting for he\r                                                                               \rGet:6 http://ppa.launchpad.net/c2d4u.team/c2d4u4.0+/ubuntu bionic InRelease [15.9 kB]\n",
            "\r0% [2 InRelease gpgv 3,626 B] [Waiting for headers] [3 InRelease 14.2 kB/88.7 k\r                                                                               \rGet:7 https://developer.download.nvidia.com/compute/cuda/repos/ubuntu1804/x86_64  Release [697 B]\n",
            "\r0% [2 InRelease gpgv 3,626 B] [Waiting for headers] [3 InRelease 14.2 kB/88.7 k\r                                                                               \rHit:8 https://developer.download.nvidia.com/compute/machine-learning/repos/ubuntu1804/x86_64  Release\n",
            "\r0% [2 InRelease gpgv 3,626 B] [Waiting for headers] [3 InRelease 14.2 kB/88.7 k\r                                                                               \rGet:9 https://developer.download.nvidia.com/compute/cuda/repos/ubuntu1804/x86_64  Release.gpg [836 B]\n",
            "Get:10 http://archive.ubuntu.com/ubuntu bionic-updates InRelease [88.7 kB]\n",
            "Hit:11 http://ppa.launchpad.net/graphics-drivers/ppa/ubuntu bionic InRelease\n",
            "Get:12 http://archive.ubuntu.com/ubuntu bionic-backports InRelease [74.6 kB]\n",
            "Ign:14 https://developer.download.nvidia.com/compute/cuda/repos/ubuntu1804/x86_64  Packages\n",
            "Get:14 https://developer.download.nvidia.com/compute/cuda/repos/ubuntu1804/x86_64  Packages [442 kB]\n",
            "Get:15 http://ppa.launchpad.net/c2d4u.team/c2d4u4.0+/ubuntu bionic/main Sources [1,690 kB]\n",
            "Get:16 http://security.ubuntu.com/ubuntu bionic-security/universe amd64 Packages [1,365 kB]\n",
            "Get:17 http://archive.ubuntu.com/ubuntu bionic-updates/multiverse amd64 Packages [54.3 kB]\n",
            "Get:18 http://security.ubuntu.com/ubuntu bionic-security/main amd64 Packages [1,781 kB]\n",
            "Get:19 http://archive.ubuntu.com/ubuntu bionic-updates/restricted amd64 Packages [252 kB]\n",
            "Get:20 http://ppa.launchpad.net/c2d4u.team/c2d4u4.0+/ubuntu bionic/main amd64 Packages [865 kB]\n",
            "Get:21 http://archive.ubuntu.com/ubuntu bionic-updates/main amd64 Packages [2,208 kB]\n",
            "Get:22 http://archive.ubuntu.com/ubuntu bionic-updates/universe amd64 Packages [2,130 kB]\n",
            "Fetched 11.1 MB in 3s (3,677 kB/s)\n",
            "Reading package lists... Done\n"
          ],
          "name": "stdout"
        }
      ]
    },
    {
      "cell_type": "code",
      "metadata": {
        "id": "G99zfyAiOdjo"
      },
      "source": [
        "!apt-get install openjdk-8-jdk-headless -qq > /dev/null\n",
        "!wget -q https://downloads.apache.org/spark/spark-2.4.7/spark-2.4.7-bin-hadoop2.7.tgz\n",
        "!tar xf spark-2.4.7-bin-hadoop2.7.tgz\n",
        "!pip install -q findspark"
      ],
      "execution_count": 7,
      "outputs": []
    },
    {
      "cell_type": "code",
      "metadata": {
        "id": "_b8HziC5ODAo"
      },
      "source": [
        "import os\n",
        "os.environ[\"JAVA_HOME\"] = \"/usr/lib/jvm/java-8-openjdk-amd64\"\n",
        "os.environ[\"SPARK_HOME\"] = \"/content/spark-2.4.7-bin-hadoop2.7\""
      ],
      "execution_count": 8,
      "outputs": []
    },
    {
      "cell_type": "markdown",
      "metadata": {
        "id": "WYmu4mWBOs_C"
      },
      "source": [
        "# Load And read Data"
      ]
    },
    {
      "cell_type": "code",
      "metadata": {
        "id": "kSFVRfh-Opn2"
      },
      "source": [
        "import findspark\n",
        "findspark.init()\n",
        "from pyspark.sql import SparkSession\n",
        "spark = SparkSession.builder.appName('data_processing').getOrCreate()\n",
        "# Setting the argument inferSchema to true indicates that Spark in the background will infer the datatypes of the values in the dataset on its own\n",
        "df = spark.read.csv('sample_data.csv',inferSchema=True,header=True)\n"
      ],
      "execution_count": 42,
      "outputs": []
    },
    {
      "cell_type": "code",
      "metadata": {
        "colab": {
          "base_uri": "https://localhost:8080/"
        },
        "id": "VkBfx7ECTF-n",
        "outputId": "d68ca697-9456-45ae-ae40-b4c883264831"
      },
      "source": [
        "df.columns"
      ],
      "execution_count": 16,
      "outputs": [
        {
          "output_type": "execute_result",
          "data": {
            "text/plain": [
              "['ratings', 'age', 'experience', 'family', 'mobile']"
            ]
          },
          "metadata": {
            "tags": []
          },
          "execution_count": 16
        }
      ]
    },
    {
      "cell_type": "code",
      "metadata": {
        "colab": {
          "base_uri": "https://localhost:8080/"
        },
        "id": "ee8VzS-xTqmj",
        "outputId": "abc1af6a-4d49-4049-b1d2-fadbad1fe828"
      },
      "source": [
        "#get the total number of records in the dataframe:\n",
        "df.count()\n",
        "#We have a total of 33 records in our dataframe"
      ],
      "execution_count": 18,
      "outputs": [
        {
          "output_type": "execute_result",
          "data": {
            "text/plain": [
              "33"
            ]
          },
          "metadata": {
            "tags": []
          },
          "execution_count": 18
        }
      ]
    },
    {
      "cell_type": "code",
      "metadata": {
        "colab": {
          "base_uri": "https://localhost:8080/"
        },
        "id": "1ys5dUJNT7xA",
        "outputId": "02590b2a-fe52-49f5-81a4-6f3a87f00230"
      },
      "source": [
        "#shape of dataset\n",
        "print((df.count(),len(df.columns)))"
      ],
      "execution_count": 22,
      "outputs": [
        {
          "output_type": "stream",
          "text": [
            "(33, 5)\n"
          ],
          "name": "stdout"
        }
      ]
    },
    {
      "cell_type": "markdown",
      "metadata": {
        "id": "J-F3inX8UQfF"
      },
      "source": [
        "#### Another way of viewing the columns in the dataframe is the printSchema method of spark"
      ]
    },
    {
      "cell_type": "markdown",
      "metadata": {
        "id": "fBeTlrYPUbdB"
      },
      "source": [
        "The nullable property indicates if the corresponding column can\n",
        "assume null values (true) or not (false)"
      ]
    },
    {
      "cell_type": "code",
      "metadata": {
        "colab": {
          "base_uri": "https://localhost:8080/"
        },
        "id": "ZgOvrtudUS3w",
        "outputId": "447e6bff-968d-43f9-b619-2f4b7976933d"
      },
      "source": [
        "df.printSchema()"
      ],
      "execution_count": 23,
      "outputs": [
        {
          "output_type": "stream",
          "text": [
            "root\n",
            " |-- ratings: integer (nullable = true)\n",
            " |-- age: integer (nullable = true)\n",
            " |-- experience: double (nullable = true)\n",
            " |-- family: integer (nullable = true)\n",
            " |-- mobile: string (nullable = true)\n",
            "\n"
          ],
          "name": "stdout"
        }
      ]
    },
    {
      "cell_type": "code",
      "metadata": {
        "colab": {
          "base_uri": "https://localhost:8080/"
        },
        "id": "_JbchMb9UinH",
        "outputId": "442a16c2-4798-4b46-cd0c-4866112183b9"
      },
      "source": [
        "#fisrt few rows of dataframe\n",
        "df.show(6)"
      ],
      "execution_count": 24,
      "outputs": [
        {
          "output_type": "stream",
          "text": [
            "+-------+---+----------+------+-------+\n",
            "|ratings|age|experience|family| mobile|\n",
            "+-------+---+----------+------+-------+\n",
            "|      3| 32|       9.0|     3|   Vivo|\n",
            "|      3| 27|      13.0|     3|  Apple|\n",
            "|      4| 22|       2.5|     0|Samsung|\n",
            "|      4| 37|      16.5|     4|  Apple|\n",
            "|      5| 27|       9.0|     1|     MI|\n",
            "|      4| 27|       9.0|     0|   Oppo|\n",
            "+-------+---+----------+------+-------+\n",
            "only showing top 6 rows\n",
            "\n"
          ],
          "name": "stdout"
        }
      ]
    },
    {
      "cell_type": "markdown",
      "metadata": {
        "id": "5bdnk7ECUuAE"
      },
      "source": [
        "In order to view only certain\n",
        "columns, we have to use the select method. Let us view only two columns\n",
        "(age and mobile):"
      ]
    },
    {
      "cell_type": "code",
      "metadata": {
        "colab": {
          "base_uri": "https://localhost:8080/"
        },
        "id": "8QBNCaXrUswy",
        "outputId": "05d42e36-ac20-4c35-85ce-2a280c81bca2"
      },
      "source": [
        "df.select('age','mobile').show(6)"
      ],
      "execution_count": 26,
      "outputs": [
        {
          "output_type": "stream",
          "text": [
            "+---+-------+\n",
            "|age| mobile|\n",
            "+---+-------+\n",
            "| 32|   Vivo|\n",
            "| 27|  Apple|\n",
            "| 22|Samsung|\n",
            "| 37|  Apple|\n",
            "| 27|     MI|\n",
            "| 27|   Oppo|\n",
            "+---+-------+\n",
            "only showing top 6 rows\n",
            "\n"
          ],
          "name": "stdout"
        }
      ]
    },
    {
      "cell_type": "markdown",
      "metadata": {
        "id": "x-oMbBT9VFGy"
      },
      "source": [
        "**describe()** for analyzing the dataframe. It\n",
        "returns the statistical measures for each column of the dataframe.\n",
        "-For nonnumerical columns, it shows the\n",
        "count and the min and max values, which are based on alphabetic order of\n",
        "those fields and doesn’t signify any real meaning"
      ]
    },
    {
      "cell_type": "code",
      "metadata": {
        "colab": {
          "base_uri": "https://localhost:8080/"
        },
        "id": "v3ujeG8LU5IW",
        "outputId": "12ab3777-dd5a-406f-f509-a3d6a66ef692"
      },
      "source": [
        "df.describe().show()"
      ],
      "execution_count": 27,
      "outputs": [
        {
          "output_type": "stream",
          "text": [
            "+-------+------------------+------------------+------------------+------------------+------+\n",
            "|summary|           ratings|               age|        experience|            family|mobile|\n",
            "+-------+------------------+------------------+------------------+------------------+------+\n",
            "|  count|                33|                33|                33|                33|    33|\n",
            "|   mean|3.5757575757575757|30.484848484848484|10.303030303030303|1.8181818181818181|  null|\n",
            "| stddev|1.1188806636071336|  6.18527087180309| 6.770731351213326|1.8448330794164254|  null|\n",
            "|    min|                 1|                22|               2.5|                 0| Apple|\n",
            "|    max|                 5|                42|              23.0|                 5|  Vivo|\n",
            "+-------+------------------+------------------+------------------+------------------+------+\n",
            "\n"
          ],
          "name": "stdout"
        }
      ]
    },
    {
      "cell_type": "markdown",
      "metadata": {
        "id": "HwChaownVg-p"
      },
      "source": [
        "###Adding a New Column\n"
      ]
    },
    {
      "cell_type": "markdown",
      "metadata": {
        "id": "Kxu12Ew2VrHF"
      },
      "source": [
        "add a new column (age after 10 years) to our dataframe by using the age column"
      ]
    },
    {
      "cell_type": "code",
      "metadata": {
        "colab": {
          "base_uri": "https://localhost:8080/"
        },
        "id": "jn264bDgVdnb",
        "outputId": "e3441807-8627-418a-e1c9-3ed63965e52c"
      },
      "source": [
        "df.withColumn(\"age_after_10_yrs\",(df[\"age\"]+10)).show()\n",
        "df = df.withColumn(\"age_after_10_yrs\",(df[\"age\"]+10))"
      ],
      "execution_count": 29,
      "outputs": [
        {
          "output_type": "stream",
          "text": [
            "+-------+---+----------+------+-------+----------------+\n",
            "|ratings|age|experience|family| mobile|age_after_10_yrs|\n",
            "+-------+---+----------+------+-------+----------------+\n",
            "|      3| 32|       9.0|     3|   Vivo|              42|\n",
            "|      3| 27|      13.0|     3|  Apple|              37|\n",
            "|      4| 22|       2.5|     0|Samsung|              32|\n",
            "|      4| 37|      16.5|     4|  Apple|              47|\n",
            "|      5| 27|       9.0|     1|     MI|              37|\n",
            "|      4| 27|       9.0|     0|   Oppo|              37|\n",
            "|      5| 37|      23.0|     5|   Vivo|              47|\n",
            "|      5| 37|      23.0|     5|Samsung|              47|\n",
            "|      3| 22|       2.5|     0|  Apple|              32|\n",
            "|      3| 27|       6.0|     0|     MI|              37|\n",
            "|      2| 27|       6.0|     2|   Oppo|              37|\n",
            "|      5| 27|       6.0|     2|Samsung|              37|\n",
            "|      3| 37|      16.5|     5|  Apple|              47|\n",
            "|      5| 27|       6.0|     0|     MI|              37|\n",
            "|      4| 22|       6.0|     1|   Oppo|              32|\n",
            "|      4| 37|       9.0|     2|Samsung|              47|\n",
            "|      4| 27|       6.0|     1|  Apple|              37|\n",
            "|      1| 37|      23.0|     5|     MI|              47|\n",
            "|      2| 42|      23.0|     2|   Oppo|              52|\n",
            "|      4| 37|       6.0|     0|   Vivo|              47|\n",
            "+-------+---+----------+------+-------+----------------+\n",
            "only showing top 20 rows\n",
            "\n"
          ],
          "name": "stdout"
        }
      ]
    },
    {
      "cell_type": "markdown",
      "metadata": {
        "id": "74YlQw13WQFG"
      },
      "source": [
        "Change the datatype of the age column from integer to double . use method cast and we need to import DoubleType from pyspark.types"
      ]
    },
    {
      "cell_type": "code",
      "metadata": {
        "id": "HSPsktCCWRbO"
      },
      "source": [
        "from pyspark.sql.types import DoubleType\n",
        "df = df.withColumn('age_double',df['age'].cast(DoubleType()))\n"
      ],
      "execution_count": 43,
      "outputs": []
    },
    {
      "cell_type": "code",
      "metadata": {
        "colab": {
          "base_uri": "https://localhost:8080/"
        },
        "id": "mRus8X8iXxeT",
        "outputId": "72d2858d-8857-4f6f-c026-dc041041b14f"
      },
      "source": [
        "df.show(10)"
      ],
      "execution_count": 45,
      "outputs": [
        {
          "output_type": "stream",
          "text": [
            "+-------+---+----------+------+-------+----------+\n",
            "|ratings|age|experience|family| mobile|age_double|\n",
            "+-------+---+----------+------+-------+----------+\n",
            "|      3| 32|       9.0|     3|   Vivo|      32.0|\n",
            "|      3| 27|      13.0|     3|  Apple|      27.0|\n",
            "|      4| 22|       2.5|     0|Samsung|      22.0|\n",
            "|      4| 37|      16.5|     4|  Apple|      37.0|\n",
            "|      5| 27|       9.0|     1|     MI|      27.0|\n",
            "|      4| 27|       9.0|     0|   Oppo|      27.0|\n",
            "|      5| 37|      23.0|     5|   Vivo|      37.0|\n",
            "|      5| 37|      23.0|     5|Samsung|      37.0|\n",
            "|      3| 22|       2.5|     0|  Apple|      22.0|\n",
            "|      3| 27|       6.0|     0|     MI|      27.0|\n",
            "+-------+---+----------+------+-------+----------+\n",
            "only showing top 10 rows\n",
            "\n"
          ],
          "name": "stdout"
        }
      ]
    },
    {
      "cell_type": "markdown",
      "metadata": {
        "id": "OwTHCz1sX3dF"
      },
      "source": [
        "### Filtering Data"
      ]
    },
    {
      "cell_type": "markdown",
      "metadata": {
        "id": "Z2rMvhlUX_jR"
      },
      "source": [
        "Filtering in PySpark is pretty straight-forward and can be\n",
        "done using the filter function"
      ]
    },
    {
      "cell_type": "markdown",
      "metadata": {
        "id": "PA9QILz-YMVx"
      },
      "source": [
        "We want to fetch the records for only ‘Vivo’ mobile"
      ]
    },
    {
      "cell_type": "code",
      "metadata": {
        "colab": {
          "base_uri": "https://localhost:8080/"
        },
        "id": "9YC1h2a5X1qO",
        "outputId": "2b674ed4-ca89-4e6d-de23-8401253a4a85"
      },
      "source": [
        "df.filter(df['mobile']=='Vivo').show()"
      ],
      "execution_count": 48,
      "outputs": [
        {
          "output_type": "stream",
          "text": [
            "+-------+---+----------+------+------+----------+\n",
            "|ratings|age|experience|family|mobile|age_double|\n",
            "+-------+---+----------+------+------+----------+\n",
            "|      3| 32|       9.0|     3|  Vivo|      32.0|\n",
            "|      5| 37|      23.0|     5|  Vivo|      37.0|\n",
            "|      4| 37|       6.0|     0|  Vivo|      37.0|\n",
            "|      5| 37|      13.0|     1|  Vivo|      37.0|\n",
            "|      4| 37|       6.0|     0|  Vivo|      37.0|\n",
            "+-------+---+----------+------+------+----------+\n",
            "\n"
          ],
          "name": "stdout"
        }
      ]
    },
    {
      "cell_type": "markdown",
      "metadata": {
        "id": "C9ovDhsmYiaH"
      },
      "source": [
        "We want to view the age and ratings for people who use ‘Vivo’ mobile"
      ]
    },
    {
      "cell_type": "code",
      "metadata": {
        "colab": {
          "base_uri": "https://localhost:8080/"
        },
        "id": "p1UhUQ-wYlmb",
        "outputId": "13797776-f1b4-4eaf-c80d-c15091182c0e"
      },
      "source": [
        "df.filter(df['mobile']=='Vivo').select('age','ratings','mobile').show()"
      ],
      "execution_count": 54,
      "outputs": [
        {
          "output_type": "stream",
          "text": [
            "+---+-------+------+\n",
            "|age|ratings|mobile|\n",
            "+---+-------+------+\n",
            "| 32|      3|  Vivo|\n",
            "| 37|      5|  Vivo|\n",
            "| 37|      4|  Vivo|\n",
            "| 37|      5|  Vivo|\n",
            "| 37|      4|  Vivo|\n",
            "+---+-------+------+\n",
            "\n"
          ],
          "name": "stdout"
        }
      ]
    },
    {
      "cell_type": "markdown",
      "metadata": {
        "id": "zI6zumswi_j_"
      },
      "source": [
        "We want to filter only ‘Vivo’ users and only those with experience of more than\n",
        "10 years"
      ]
    },
    {
      "cell_type": "code",
      "metadata": {
        "colab": {
          "base_uri": "https://localhost:8080/"
        },
        "id": "E-uNp0y7jCko",
        "outputId": "f59ead0e-cf08-4bbf-c764-95837137a6aa"
      },
      "source": [
        "df.filter((df['mobile']==\"Vivo\")&(df['experience']>10)).show()"
      ],
      "execution_count": 58,
      "outputs": [
        {
          "output_type": "stream",
          "text": [
            "+-------+---+----------+------+------+----------+\n",
            "|ratings|age|experience|family|mobile|age_double|\n",
            "+-------+---+----------+------+------+----------+\n",
            "|      5| 37|      23.0|     5|  Vivo|      37.0|\n",
            "|      5| 37|      13.0|     1|  Vivo|      37.0|\n",
            "+-------+---+----------+------+------+----------+\n",
            "\n"
          ],
          "name": "stdout"
        }
      ]
    },
    {
      "cell_type": "markdown",
      "metadata": {
        "id": "OHfOrjjtj9SY"
      },
      "source": [
        "Another approach to achieve the same\n",
        "results "
      ]
    },
    {
      "cell_type": "code",
      "metadata": {
        "colab": {
          "base_uri": "https://localhost:8080/"
        },
        "id": "S7m1UnENj-wn",
        "outputId": "98165b82-f95a-49d4-ca8c-19543bc63965"
      },
      "source": [
        "df.filter(df['mobile']=='Vivo').filter(df['experience']>10).show()"
      ],
      "execution_count": 61,
      "outputs": [
        {
          "output_type": "stream",
          "text": [
            "+-------+---+----------+------+------+----------+\n",
            "|ratings|age|experience|family|mobile|age_double|\n",
            "+-------+---+----------+------+------+----------+\n",
            "|      5| 37|      23.0|     5|  Vivo|      37.0|\n",
            "|      5| 37|      13.0|     1|  Vivo|      37.0|\n",
            "+-------+---+----------+------+------+----------+\n",
            "\n"
          ],
          "name": "stdout"
        }
      ]
    },
    {
      "cell_type": "markdown",
      "metadata": {
        "id": "wh-zL-yrkgT5"
      },
      "source": [
        "### Distinct Values in Column"
      ]
    },
    {
      "cell_type": "markdown",
      "metadata": {
        "id": "qk4nml1Jkurj"
      },
      "source": [
        "View the distinct values for the mobile\n",
        "column in the dataframe **distinct()**"
      ]
    },
    {
      "cell_type": "code",
      "metadata": {
        "colab": {
          "base_uri": "https://localhost:8080/"
        },
        "id": "o3655nRykiab",
        "outputId": "53bce14c-dda2-414f-df96-070ecdeeadbf"
      },
      "source": [
        "df.select('mobile').distinct().show()"
      ],
      "execution_count": 62,
      "outputs": [
        {
          "output_type": "stream",
          "text": [
            "+-------+\n",
            "| mobile|\n",
            "+-------+\n",
            "|     MI|\n",
            "|   Oppo|\n",
            "|Samsung|\n",
            "|   Vivo|\n",
            "|  Apple|\n",
            "+-------+\n",
            "\n"
          ],
          "name": "stdout"
        }
      ]
    },
    {
      "cell_type": "code",
      "metadata": {
        "colab": {
          "base_uri": "https://localhost:8080/"
        },
        "id": "DrFV29wFlJpH",
        "outputId": "0acc288c-2e98-4e6e-933e-a5c267315763"
      },
      "source": [
        "# count of distinct values in the column\n",
        "df.select('mobile').distinct().count()"
      ],
      "execution_count": 64,
      "outputs": [
        {
          "output_type": "execute_result",
          "data": {
            "text/plain": [
              "5"
            ]
          },
          "metadata": {
            "tags": []
          },
          "execution_count": 64
        }
      ]
    },
    {
      "cell_type": "markdown",
      "metadata": {
        "id": "d44B6JQal1EE"
      },
      "source": [
        "### Grouping Data\n"
      ]
    },
    {
      "cell_type": "markdown",
      "metadata": {
        "id": "Sf5faFxFmjAB"
      },
      "source": [
        "We are grouping all the records based on the categorical values in\n",
        "the mobile column and counting the number of records for each category\n",
        "using the count method"
      ]
    },
    {
      "cell_type": "code",
      "metadata": {
        "colab": {
          "base_uri": "https://localhost:8080/"
        },
        "id": "1-Rd82ZOlzqn",
        "outputId": "fb1a1e09-67a7-4f17-d6fd-131d68b3c0ee"
      },
      "source": [
        "df.groupBy('mobile').count().show()"
      ],
      "execution_count": 67,
      "outputs": [
        {
          "output_type": "stream",
          "text": [
            "+-------+-----+\n",
            "| mobile|count|\n",
            "+-------+-----+\n",
            "|     MI|    8|\n",
            "|   Oppo|    7|\n",
            "|Samsung|    6|\n",
            "|   Vivo|    5|\n",
            "|  Apple|    7|\n",
            "+-------+-----+\n",
            "\n"
          ],
          "name": "stdout"
        }
      ]
    },
    {
      "cell_type": "markdown",
      "metadata": {
        "id": "u_1rxEvImyR0"
      },
      "source": [
        " We can further refine these results by making use\n",
        "of the orderBy method to sort them in a defined order"
      ]
    },
    {
      "cell_type": "code",
      "metadata": {
        "colab": {
          "base_uri": "https://localhost:8080/"
        },
        "id": "0x1RaBBJmzS8",
        "outputId": "51cb8101-d2c8-4bcf-e944-ce87995a19b3"
      },
      "source": [
        "df.groupBy('mobile').count().orderBy('count',ascending=False).show()"
      ],
      "execution_count": 68,
      "outputs": [
        {
          "output_type": "stream",
          "text": [
            "+-------+-----+\n",
            "| mobile|count|\n",
            "+-------+-----+\n",
            "|     MI|    8|\n",
            "|   Oppo|    7|\n",
            "|  Apple|    7|\n",
            "|Samsung|    6|\n",
            "|   Vivo|    5|\n",
            "+-------+-----+\n",
            "\n"
          ],
          "name": "stdout"
        }
      ]
    },
    {
      "cell_type": "markdown",
      "metadata": {
        "id": "MJ78l0oRneRt"
      },
      "source": [
        "We can also apply the **groupBy** method to calculate statistical measures\n",
        "such as mean value, sum, min, or max value for each category. "
      ]
    },
    {
      "cell_type": "code",
      "metadata": {
        "colab": {
          "base_uri": "https://localhost:8080/"
        },
        "id": "ooN1sTV2nfIj",
        "outputId": "bfc8481b-ddc8-4be7-e3da-8cc058bd2396"
      },
      "source": [
        "df.groupBy('mobile').mean().show()"
      ],
      "execution_count": 69,
      "outputs": [
        {
          "output_type": "stream",
          "text": [
            "+-------+------------------+------------------+------------------+------------------+------------------+\n",
            "| mobile|      avg(ratings)|          avg(age)|   avg(experience)|       avg(family)|   avg(age_double)|\n",
            "+-------+------------------+------------------+------------------+------------------+------------------+\n",
            "|     MI|               3.5|            30.125|           10.1875|             1.375|            30.125|\n",
            "|   Oppo| 2.857142857142857|28.428571428571427|10.357142857142858|1.4285714285714286|28.428571428571427|\n",
            "|Samsung| 4.166666666666667|28.666666666666668| 8.666666666666666|1.8333333333333333|28.666666666666668|\n",
            "|   Vivo|               4.2|              36.0|              11.4|               1.8|              36.0|\n",
            "|  Apple|3.4285714285714284|30.571428571428573|              11.0|2.7142857142857144|30.571428571428573|\n",
            "+-------+------------------+------------------+------------------+------------------+------------------+\n",
            "\n"
          ],
          "name": "stdout"
        }
      ]
    },
    {
      "cell_type": "markdown",
      "metadata": {
        "id": "2QJWizJKn4rX"
      },
      "source": [
        "The mean method gives us the average of age, ratings, experience, and\n",
        "family size columns for each mobile brand"
      ]
    },
    {
      "cell_type": "markdown",
      "metadata": {
        "id": "v-fi8W58n6Db"
      },
      "source": [
        "Let us now view the min and max values of users data for every mobile\n",
        "brand"
      ]
    },
    {
      "cell_type": "code",
      "metadata": {
        "colab": {
          "base_uri": "https://localhost:8080/"
        },
        "id": "zx-ZQxPMoBCZ",
        "outputId": "20320f0f-e8f3-47f7-e893-1d8bc943abc7"
      },
      "source": [
        "df.groupBy('mobile').min().show()"
      ],
      "execution_count": 70,
      "outputs": [
        {
          "output_type": "stream",
          "text": [
            "+-------+------------+--------+---------------+-----------+---------------+\n",
            "| mobile|min(ratings)|min(age)|min(experience)|min(family)|min(age_double)|\n",
            "+-------+------------+--------+---------------+-----------+---------------+\n",
            "|     MI|           1|      27|            2.5|          0|           27.0|\n",
            "|   Oppo|           2|      22|            6.0|          0|           22.0|\n",
            "|Samsung|           2|      22|            2.5|          0|           22.0|\n",
            "|   Vivo|           3|      32|            6.0|          0|           32.0|\n",
            "|  Apple|           3|      22|            2.5|          0|           22.0|\n",
            "+-------+------------+--------+---------------+-----------+---------------+\n",
            "\n"
          ],
          "name": "stdout"
        }
      ]
    },
    {
      "cell_type": "code",
      "metadata": {
        "colab": {
          "base_uri": "https://localhost:8080/"
        },
        "id": "8fbSt4PHoJG1",
        "outputId": "8b4f3a0d-8fbb-405c-90e6-852b1cb749ac"
      },
      "source": [
        "df.groupBy('mobile').max().show()"
      ],
      "execution_count": 71,
      "outputs": [
        {
          "output_type": "stream",
          "text": [
            "+-------+------------+--------+---------------+-----------+---------------+\n",
            "| mobile|max(ratings)|max(age)|max(experience)|max(family)|max(age_double)|\n",
            "+-------+------------+--------+---------------+-----------+---------------+\n",
            "|     MI|           5|      42|           23.0|          5|           42.0|\n",
            "|   Oppo|           4|      42|           23.0|          2|           42.0|\n",
            "|Samsung|           5|      37|           23.0|          5|           37.0|\n",
            "|   Vivo|           5|      37|           23.0|          5|           37.0|\n",
            "|  Apple|           4|      37|           16.5|          5|           37.0|\n",
            "+-------+------------+--------+---------------+-----------+---------------+\n",
            "\n"
          ],
          "name": "stdout"
        }
      ]
    },
    {
      "cell_type": "markdown",
      "metadata": {
        "id": "ebo7C1aJommh"
      },
      "source": [
        "### Aggregations"
      ]
    },
    {
      "cell_type": "markdown",
      "metadata": {
        "id": "0MiS5aH7oxW8"
      },
      "source": [
        "We can use the agg function as well to achieve the similar kinds of results\n",
        "as above. Let’s use the agg function in PySpark for simply taking the sum of\n",
        "total experience for each mobile brand."
      ]
    },
    {
      "cell_type": "code",
      "metadata": {
        "colab": {
          "base_uri": "https://localhost:8080/"
        },
        "id": "x_YNQQlUor3k",
        "outputId": "d6f87f5f-7561-4a20-e401-cea5843e7d8d"
      },
      "source": [
        "df.groupBy('mobile').agg({'experience':'sum'}).show()"
      ],
      "execution_count": 72,
      "outputs": [
        {
          "output_type": "stream",
          "text": [
            "+-------+---------------+\n",
            "| mobile|sum(experience)|\n",
            "+-------+---------------+\n",
            "|     MI|           81.5|\n",
            "|   Oppo|           72.5|\n",
            "|Samsung|           52.0|\n",
            "|   Vivo|           57.0|\n",
            "|  Apple|           77.0|\n",
            "+-------+---------------+\n",
            "\n"
          ],
          "name": "stdout"
        }
      ]
    },
    {
      "cell_type": "markdown",
      "metadata": {
        "id": "TCZ1c2mopEvd"
      },
      "source": [
        "## User-Defined Functions (UDFs)"
      ]
    },
    {
      "cell_type": "markdown",
      "metadata": {
        "id": "SWB00BS9r3xh"
      },
      "source": [
        "UDFs are widely used in data processing to apply certain transformations\n",
        "to the dataframe. There are two types of UDFs available in PySpark:\n",
        "Conventional UDF and Pandas UDF. Pandas UDF are much more powerful\n",
        "in terms of speed and processing time. "
      ]
    },
    {
      "cell_type": "code",
      "metadata": {
        "id": "RJXBlpa7pGyj"
      },
      "source": [
        "#import udf from PySpark functions\n",
        "from pyspark.sql.functions import udf\n",
        "#Now we can apply basic UDF either by using a lambda or typical Python function"
      ],
      "execution_count": 74,
      "outputs": []
    },
    {
      "cell_type": "markdown",
      "metadata": {
        "id": "UStWLDEXsPCx"
      },
      "source": [
        "#### Traditional Python Function"
      ]
    },
    {
      "cell_type": "code",
      "metadata": {
        "id": "1YXM25qnpEIL"
      },
      "source": [
        "def price_range(brand):\n",
        "  if brand in ['Samsung','Apple']:\n",
        "    return 'High Price'\n",
        "  elif brand == 'Mi':\n",
        "    return 'Mid Price'\n",
        "  else:\n",
        "    return 'Low Price'"
      ],
      "execution_count": 76,
      "outputs": []
    },
    {
      "cell_type": "markdown",
      "metadata": {
        "id": "TrOmGGKiyM0c"
      },
      "source": [
        "Create a UDF (brand_udf) that uses this function\n",
        "and also captures its datatype to apply this tranformation on the mobile\n",
        "column of the dataframe"
      ]
    },
    {
      "cell_type": "code",
      "metadata": {
        "id": "Uhn0IcIpyOy0"
      },
      "source": [
        "from pyspark.sql.types import  StringType\n",
        "brand_udf = udf(price_range,StringType())"
      ],
      "execution_count": 82,
      "outputs": []
    },
    {
      "cell_type": "markdown",
      "metadata": {
        "id": "Qcs5VJ4QtLgV"
      },
      "source": [
        "In the final step, we apply the udf(brand_udf) to the mobile column\n",
        "of dataframe and create a new colum (price_range) with new values"
      ]
    },
    {
      "cell_type": "code",
      "metadata": {
        "colab": {
          "base_uri": "https://localhost:8080/"
        },
        "id": "dyiVYZC4ytMX",
        "outputId": "69e9e830-27b8-4b35-c647-7398f0770bdf"
      },
      "source": [
        "df.withColumn('price_range',brand_udf(df['mobile'])).show()"
      ],
      "execution_count": 83,
      "outputs": [
        {
          "output_type": "stream",
          "text": [
            "+-------+---+----------+------+-------+----------+-----------+\n",
            "|ratings|age|experience|family| mobile|age_double|price_range|\n",
            "+-------+---+----------+------+-------+----------+-----------+\n",
            "|      3| 32|       9.0|     3|   Vivo|      32.0|  Low Price|\n",
            "|      3| 27|      13.0|     3|  Apple|      27.0| High Price|\n",
            "|      4| 22|       2.5|     0|Samsung|      22.0| High Price|\n",
            "|      4| 37|      16.5|     4|  Apple|      37.0| High Price|\n",
            "|      5| 27|       9.0|     1|     MI|      27.0|  Low Price|\n",
            "|      4| 27|       9.0|     0|   Oppo|      27.0|  Low Price|\n",
            "|      5| 37|      23.0|     5|   Vivo|      37.0|  Low Price|\n",
            "|      5| 37|      23.0|     5|Samsung|      37.0| High Price|\n",
            "|      3| 22|       2.5|     0|  Apple|      22.0| High Price|\n",
            "|      3| 27|       6.0|     0|     MI|      27.0|  Low Price|\n",
            "|      2| 27|       6.0|     2|   Oppo|      27.0|  Low Price|\n",
            "|      5| 27|       6.0|     2|Samsung|      27.0| High Price|\n",
            "|      3| 37|      16.5|     5|  Apple|      37.0| High Price|\n",
            "|      5| 27|       6.0|     0|     MI|      27.0|  Low Price|\n",
            "|      4| 22|       6.0|     1|   Oppo|      22.0|  Low Price|\n",
            "|      4| 37|       9.0|     2|Samsung|      37.0| High Price|\n",
            "|      4| 27|       6.0|     1|  Apple|      27.0| High Price|\n",
            "|      1| 37|      23.0|     5|     MI|      37.0|  Low Price|\n",
            "|      2| 42|      23.0|     2|   Oppo|      42.0|  Low Price|\n",
            "|      4| 37|       6.0|     0|   Vivo|      37.0|  Low Price|\n",
            "+-------+---+----------+------+-------+----------+-----------+\n",
            "only showing top 20 rows\n",
            "\n"
          ],
          "name": "stdout"
        }
      ]
    },
    {
      "cell_type": "markdown",
      "metadata": {
        "id": "YEn9KyEU74ZO"
      },
      "source": [
        "### Using Lambda Function"
      ]
    },
    {
      "cell_type": "markdown",
      "metadata": {
        "id": "AreHrFeX8E4c"
      },
      "source": [
        "We categorize the age columns into two groups (young, senior) based on\n",
        "the age of the user."
      ]
    },
    {
      "cell_type": "code",
      "metadata": {
        "colab": {
          "base_uri": "https://localhost:8080/"
        },
        "id": "f3vKwmc677Z2",
        "outputId": "31b8a311-63e0-4012-95e2-c90349e67b69"
      },
      "source": [
        "age_udf = udf(lambda age: \"young\" if age<30 else \"senior\", StringType())\n",
        "df.withColumn(\"age_group\",age_udf(df['age'])).show(10)"
      ],
      "execution_count": 86,
      "outputs": [
        {
          "output_type": "stream",
          "text": [
            "+-------+---+----------+------+-------+----------+---------+\n",
            "|ratings|age|experience|family| mobile|age_double|age_group|\n",
            "+-------+---+----------+------+-------+----------+---------+\n",
            "|      3| 32|       9.0|     3|   Vivo|      32.0|   senior|\n",
            "|      3| 27|      13.0|     3|  Apple|      27.0|    young|\n",
            "|      4| 22|       2.5|     0|Samsung|      22.0|    young|\n",
            "|      4| 37|      16.5|     4|  Apple|      37.0|   senior|\n",
            "|      5| 27|       9.0|     1|     MI|      27.0|    young|\n",
            "|      4| 27|       9.0|     0|   Oppo|      27.0|    young|\n",
            "|      5| 37|      23.0|     5|   Vivo|      37.0|   senior|\n",
            "|      5| 37|      23.0|     5|Samsung|      37.0|   senior|\n",
            "|      3| 22|       2.5|     0|  Apple|      22.0|    young|\n",
            "|      3| 27|       6.0|     0|     MI|      27.0|    young|\n",
            "+-------+---+----------+------+-------+----------+---------+\n",
            "only showing top 10 rows\n",
            "\n"
          ],
          "name": "stdout"
        }
      ]
    },
    {
      "cell_type": "markdown",
      "metadata": {
        "id": "TKBn7w4g_Eqf"
      },
      "source": [
        "### Pandas UDF (Vectorized UDF)"
      ]
    },
    {
      "cell_type": "markdown",
      "metadata": {
        "id": "QW8RCZ6s_HMi"
      },
      "source": [
        "Pandas UDFs are way faster and efficient\n",
        "compared to their peers. There are two types of Pandas UDFs:\n",
        "\n",
        "• Scalar\n",
        "\n",
        "• GroupedMap\n",
        "\n",
        "We have to first import pandas_udf from PySpark functions and apply it on any\n",
        "particular column to be tranformed."
      ]
    },
    {
      "cell_type": "code",
      "metadata": {
        "id": "qOFHuLZy_SAH"
      },
      "source": [
        "from pyspark.sql.functions import pandas_udf"
      ],
      "execution_count": 87,
      "outputs": []
    },
    {
      "cell_type": "markdown",
      "metadata": {
        "id": "xuNFcMLG_wrj"
      },
      "source": [
        "Define a Python function that calculates the\n",
        "number of years left in a user’s life assuming a life expectancy of 100 years.\n",
        "It is a very simple calculation: we subtract the age of the user from 100\n",
        "using a Python function"
      ]
    },
    {
      "cell_type": "code",
      "metadata": {
        "colab": {
          "base_uri": "https://localhost:8080/"
        },
        "id": "0m9WBQ-E_Gnv",
        "outputId": "efc5142f-75df-4ee1-8234-1241f4359f79"
      },
      "source": [
        "from pyspark.sql.types import IntegerType\n",
        "def remainings_yrs(age):\n",
        "  yrs_left = 100-age\n",
        "  return yrs_left\n",
        "length_udf = pandas_udf(remainings_yrs,IntegerType())\n",
        "df.withColumn(\"Yrs_left\",length_udf(df['age'])).show(10)"
      ],
      "execution_count": 88,
      "outputs": [
        {
          "output_type": "stream",
          "text": [
            "+-------+---+----------+------+-------+----------+--------+\n",
            "|ratings|age|experience|family| mobile|age_double|Yrs_left|\n",
            "+-------+---+----------+------+-------+----------+--------+\n",
            "|      3| 32|       9.0|     3|   Vivo|      32.0|      68|\n",
            "|      3| 27|      13.0|     3|  Apple|      27.0|      73|\n",
            "|      4| 22|       2.5|     0|Samsung|      22.0|      78|\n",
            "|      4| 37|      16.5|     4|  Apple|      37.0|      63|\n",
            "|      5| 27|       9.0|     1|     MI|      27.0|      73|\n",
            "|      4| 27|       9.0|     0|   Oppo|      27.0|      73|\n",
            "|      5| 37|      23.0|     5|   Vivo|      37.0|      63|\n",
            "|      5| 37|      23.0|     5|Samsung|      37.0|      63|\n",
            "|      3| 22|       2.5|     0|  Apple|      22.0|      78|\n",
            "|      3| 27|       6.0|     0|     MI|      27.0|      73|\n",
            "+-------+---+----------+------+-------+----------+--------+\n",
            "only showing top 10 rows\n",
            "\n"
          ],
          "name": "stdout"
        }
      ]
    },
    {
      "cell_type": "markdown",
      "metadata": {
        "id": "5Vukg74zApIj"
      },
      "source": [
        "## Pandas UDF (Multiple Columns)"
      ]
    },
    {
      "cell_type": "markdown",
      "metadata": {
        "id": "aern2CspAqiF"
      },
      "source": [
        " We will create a new column that is simply the product of the ratings and experience columns. As usual, we define a Python function and calculate\n",
        "the product of the two columns."
      ]
    },
    {
      "cell_type": "code",
      "metadata": {
        "colab": {
          "base_uri": "https://localhost:8080/"
        },
        "id": "f3TxFLTyBpf5",
        "outputId": "0709813e-6518-4d1f-b2bb-16dfea387d16"
      },
      "source": [
        "def prod(rating,exprience):\n",
        "  x = rating * exprience\n",
        "  return x\n",
        "prod_udf = pandas_udf(prod,DoubleType())\n",
        "df.withColumn('Product',prod_udf(df['ratings'],df['experience'])).show(10)"
      ],
      "execution_count": 91,
      "outputs": [
        {
          "output_type": "stream",
          "text": [
            "+-------+---+----------+------+-------+----------+-------+\n",
            "|ratings|age|experience|family| mobile|age_double|Product|\n",
            "+-------+---+----------+------+-------+----------+-------+\n",
            "|      3| 32|       9.0|     3|   Vivo|      32.0|   27.0|\n",
            "|      3| 27|      13.0|     3|  Apple|      27.0|   39.0|\n",
            "|      4| 22|       2.5|     0|Samsung|      22.0|   10.0|\n",
            "|      4| 37|      16.5|     4|  Apple|      37.0|   66.0|\n",
            "|      5| 27|       9.0|     1|     MI|      27.0|   45.0|\n",
            "|      4| 27|       9.0|     0|   Oppo|      27.0|   36.0|\n",
            "|      5| 37|      23.0|     5|   Vivo|      37.0|  115.0|\n",
            "|      5| 37|      23.0|     5|Samsung|      37.0|  115.0|\n",
            "|      3| 22|       2.5|     0|  Apple|      22.0|    7.5|\n",
            "|      3| 27|       6.0|     0|     MI|      27.0|   18.0|\n",
            "+-------+---+----------+------+-------+----------+-------+\n",
            "only showing top 10 rows\n",
            "\n"
          ],
          "name": "stdout"
        }
      ]
    },
    {
      "cell_type": "markdown",
      "metadata": {
        "id": "Fh7JaWOjCkJh"
      },
      "source": [
        "## Drop Duplicate Values"
      ]
    },
    {
      "cell_type": "markdown",
      "metadata": {
        "id": "vpsKlzo2CldI"
      },
      "source": [
        "We can use the **dropDuplicates()** method in order to remove the duplicate\n",
        "records from the dataframe. The total number of records in this dataframe\n",
        "are 33, but it also contains 7 duplicate records, which can easily be confirmed\n",
        "by droping those duplicate records as we are left with only 26 rows."
      ]
    },
    {
      "cell_type": "code",
      "metadata": {
        "id": "HoLfrTz2C35M"
      },
      "source": [
        "df.count()"
      ],
      "execution_count": null,
      "outputs": []
    },
    {
      "cell_type": "code",
      "metadata": {
        "colab": {
          "base_uri": "https://localhost:8080/"
        },
        "id": "csfzp6vHCtVk",
        "outputId": "c3d995f4-b75a-431b-f247-6536e58e5906"
      },
      "source": [
        "\n",
        "df = df.dropDuplicates()\n",
        "df.count()"
      ],
      "execution_count": 92,
      "outputs": [
        {
          "output_type": "execute_result",
          "data": {
            "text/plain": [
              "26"
            ]
          },
          "metadata": {
            "tags": []
          },
          "execution_count": 92
        }
      ]
    },
    {
      "cell_type": "markdown",
      "metadata": {
        "id": "KuJecXEOC_R2"
      },
      "source": [
        "## Delete Column"
      ]
    },
    {
      "cell_type": "markdown",
      "metadata": {
        "id": "3B6Y8Y-3DEIY"
      },
      "source": [
        "Remove the mobile column from the\n",
        "dataframe bypass it as an argument inside the drop function"
      ]
    },
    {
      "cell_type": "code",
      "metadata": {
        "colab": {
          "base_uri": "https://localhost:8080/"
        },
        "id": "_CJXWJM_DP9P",
        "outputId": "b2462391-d2a9-4f03-eef8-bc0c3f66bc68"
      },
      "source": [
        "df_new = df.drop('mobile')\n",
        "df_new.show(10)"
      ],
      "execution_count": 96,
      "outputs": [
        {
          "output_type": "stream",
          "text": [
            "+-------+---+----------+------+----------+\n",
            "|ratings|age|experience|family|age_double|\n",
            "+-------+---+----------+------+----------+\n",
            "|      4| 27|       6.0|     1|      27.0|\n",
            "|      3| 27|       6.0|     0|      27.0|\n",
            "|      3| 37|      16.5|     5|      37.0|\n",
            "|      3| 22|       2.5|     0|      22.0|\n",
            "|      5| 27|       6.0|     2|      27.0|\n",
            "|      5| 37|      23.0|     5|      37.0|\n",
            "|      5| 27|       9.0|     1|      27.0|\n",
            "|      2| 27|       9.0|     2|      27.0|\n",
            "|      4| 37|      16.5|     4|      37.0|\n",
            "|      5| 22|       2.5|     0|      22.0|\n",
            "+-------+---+----------+------+----------+\n",
            "only showing top 10 rows\n",
            "\n"
          ],
          "name": "stdout"
        }
      ]
    },
    {
      "cell_type": "markdown",
      "metadata": {
        "id": "z3Z54foEDgTX"
      },
      "source": [
        "## Writing Data"
      ]
    },
    {
      "cell_type": "markdown",
      "metadata": {
        "id": "v5IhwKTgDm8A"
      },
      "source": [
        " **Csv**\n",
        "- save it back in the original csv format as single file, we can use\n",
        "the **coalesce** function in spark"
      ]
    },
    {
      "cell_type": "code",
      "metadata": {
        "colab": {
          "base_uri": "https://localhost:8080/",
          "height": 35
        },
        "id": "7X47APnVDpG8",
        "outputId": "d008868a-cf23-437b-eabe-4793a8d019a4"
      },
      "source": [
        "pwd"
      ],
      "execution_count": 97,
      "outputs": [
        {
          "output_type": "execute_result",
          "data": {
            "application/vnd.google.colaboratory.intrinsic+json": {
              "type": "string"
            },
            "text/plain": [
              "'/content'"
            ]
          },
          "metadata": {
            "tags": []
          },
          "execution_count": 97
        }
      ]
    },
    {
      "cell_type": "code",
      "metadata": {
        "id": "uXWR3TBYDfXx"
      },
      "source": [
        "write_Loca = '/content/df_csv'\n",
        "df.coalesce(1).write.format(\"csv\").option('header','True').save(write_Loca)"
      ],
      "execution_count": 98,
      "outputs": []
    },
    {
      "cell_type": "markdown",
      "metadata": {
        "id": "vsKTVdvSEboM"
      },
      "source": [
        "**Parquet**"
      ]
    },
    {
      "cell_type": "markdown",
      "metadata": {
        "id": "xSpvDz1XEj0H"
      },
      "source": [
        "If the dataset is huge and involves a lot of columns, we can choose to\n",
        "compress it and convert it into a parquet file format. It reduces the overall\n",
        "size of the data and optimizes the performance while processing data\n",
        "because it works on subsets of required columns instead of the entire data"
      ]
    },
    {
      "cell_type": "code",
      "metadata": {
        "id": "7DYbaJr8EcQr"
      },
      "source": [
        "parquet_uri = '/content/df_parquet'\n",
        "df.write.format('parquet').save(parquet_uri)"
      ],
      "execution_count": 99,
      "outputs": []
    }
  ]
}