{
  "nbformat": 4,
  "nbformat_minor": 0,
  "metadata": {
    "colab": {
      "name": "4_Random_Forests_pyspark - Copy.ipynb",
      "provenance": [],
      "collapsed_sections": []
    },
    "kernelspec": {
      "name": "python3",
      "display_name": "Python 3"
    }
  },
  "cells": [
    {
      "cell_type": "markdown",
      "metadata": {
        "id": "8Ca-jyKuxfGo"
      },
      "source": [
        "# Random Forests"
      ]
    },
    {
      "cell_type": "markdown",
      "metadata": {
        "id": "AGhquZSSF8xf"
      },
      "source": [
        "\n",
        "# Random Forests\n"
      ]
    },
    {
      "cell_type": "code",
      "metadata": {
        "id": "jiEpMmFUJZzh"
      },
      "source": [
        "!apt-get update"
      ],
      "execution_count": null,
      "outputs": []
    },
    {
      "cell_type": "code",
      "metadata": {
        "id": "NZD-Xdm3Jfr6"
      },
      "source": [
        "!apt-get install openjdk-8-jdk-headless -qq > /dev/null\n",
        "!wget -q https://downloads.apache.org/spark/spark-2.4.7/spark-2.4.7-bin-hadoop2.7.tgz\n",
        "!tar xf spark-2.4.7-bin-hadoop2.7.tgz\n",
        "!pip install -q findspark"
      ],
      "execution_count": null,
      "outputs": []
    },
    {
      "cell_type": "code",
      "metadata": {
        "id": "Yn1gOvGHJi8x"
      },
      "source": [
        "import os\n",
        "os.environ[\"JAVA_HOME\"] = \"/usr/lib/jvm/java-8-openjdk-amd64\"\n",
        "os.environ[\"SPARK_HOME\"] = \"/content/spark-2.4.7-bin-hadoop2.7\""
      ],
      "execution_count": null,
      "outputs": []
    },
    {
      "cell_type": "code",
      "metadata": {
        "id": "MbnagE9fJm6h"
      },
      "source": [
        "import findspark\n",
        "findspark.init()"
      ],
      "execution_count": null,
      "outputs": []
    },
    {
      "cell_type": "markdown",
      "metadata": {
        "id": "PlsXdkqcJC6C"
      },
      "source": [
        "# **Code**\n",
        "Build a random forest model using Spark’s MLlib library and\n",
        "predict the target variable using the input features"
      ]
    },
    {
      "cell_type": "markdown",
      "metadata": {
        "id": "fpLga4dzJGz4"
      },
      "source": [
        "Step **1**: Create the SparkSession Object"
      ]
    },
    {
      "cell_type": "code",
      "metadata": {
        "id": "mgJkskv1JVop"
      },
      "source": [
        "from pyspark.sql import SparkSession\n",
        "spark = SparkSession.builder.appName('random_forest').getOrCreate()\n"
      ],
      "execution_count": null,
      "outputs": []
    },
    {
      "cell_type": "markdown",
      "metadata": {
        "id": "yWdToz-8KB91"
      },
      "source": [
        "Step **2**: Read the Dataset"
      ]
    },
    {
      "cell_type": "code",
      "metadata": {
        "id": "4v9HngDrKJJX"
      },
      "source": [
        "df= spark.read.csv('affairs.csv',inferSchema=True,header=True)"
      ],
      "execution_count": null,
      "outputs": []
    },
    {
      "cell_type": "markdown",
      "metadata": {
        "id": "J7leyN6PKjS6"
      },
      "source": [
        "Step **3**: Exploratory Data Analysis"
      ]
    },
    {
      "cell_type": "code",
      "metadata": {
        "colab": {
          "base_uri": "https://localhost:8080/"
        },
        "id": "pqFpIEd6KxGw",
        "outputId": "4d838617-5072-4beb-83e4-101971da308b"
      },
      "source": [
        "print((df.count(),len(df.columns)))"
      ],
      "execution_count": null,
      "outputs": [
        {
          "output_type": "stream",
          "text": [
            "(6366, 6)\n"
          ],
          "name": "stdout"
        }
      ]
    },
    {
      "cell_type": "code",
      "metadata": {
        "colab": {
          "base_uri": "https://localhost:8080/"
        },
        "id": "Qo2i9cDoI1Nc",
        "outputId": "ebd951f4-dcef-483c-cbf4-ab812234c50e"
      },
      "source": [
        "df.printSchema()"
      ],
      "execution_count": null,
      "outputs": [
        {
          "output_type": "stream",
          "text": [
            "root\n",
            " |-- rate_marriage: integer (nullable = true)\n",
            " |-- age: double (nullable = true)\n",
            " |-- yrs_married: double (nullable = true)\n",
            " |-- children: double (nullable = true)\n",
            " |-- religious: integer (nullable = true)\n",
            " |-- affairs: integer (nullable = true)\n",
            "\n"
          ],
          "name": "stdout"
        }
      ]
    },
    {
      "cell_type": "code",
      "metadata": {
        "colab": {
          "base_uri": "https://localhost:8080/"
        },
        "id": "UYEWpClHLiVr",
        "outputId": "ba070cd7-5c7d-48d3-df24-2a313d773a47"
      },
      "source": [
        "df.show()"
      ],
      "execution_count": null,
      "outputs": [
        {
          "output_type": "stream",
          "text": [
            "+-------------+----+-----------+--------+---------+-------+\n",
            "|rate_marriage| age|yrs_married|children|religious|affairs|\n",
            "+-------------+----+-----------+--------+---------+-------+\n",
            "|            5|32.0|        6.0|     1.0|        3|      0|\n",
            "|            4|22.0|        2.5|     0.0|        2|      0|\n",
            "|            3|32.0|        9.0|     3.0|        3|      1|\n",
            "|            3|27.0|       13.0|     3.0|        1|      1|\n",
            "|            4|22.0|        2.5|     0.0|        1|      1|\n",
            "|            4|37.0|       16.5|     4.0|        3|      1|\n",
            "|            5|27.0|        9.0|     1.0|        1|      1|\n",
            "|            4|27.0|        9.0|     0.0|        2|      1|\n",
            "|            5|37.0|       23.0|     5.5|        2|      1|\n",
            "|            5|37.0|       23.0|     5.5|        2|      1|\n",
            "|            3|22.0|        2.5|     0.0|        2|      1|\n",
            "|            3|27.0|        6.0|     0.0|        1|      1|\n",
            "|            2|27.0|        6.0|     2.0|        1|      1|\n",
            "|            5|27.0|        6.0|     2.0|        3|      1|\n",
            "|            3|37.0|       16.5|     5.5|        1|      1|\n",
            "|            5|27.0|        6.0|     0.0|        2|      1|\n",
            "|            4|22.0|        6.0|     1.0|        1|      1|\n",
            "|            4|37.0|        9.0|     2.0|        2|      1|\n",
            "|            4|27.0|        6.0|     1.0|        1|      1|\n",
            "|            1|37.0|       23.0|     5.5|        4|      1|\n",
            "+-------------+----+-----------+--------+---------+-------+\n",
            "only showing top 20 rows\n",
            "\n"
          ],
          "name": "stdout"
        }
      ]
    },
    {
      "cell_type": "markdown",
      "metadata": {
        "id": "55fboTPrLrJC"
      },
      "source": [
        "We can now use the describe function to go over statistical measures of\n",
        "the dataset"
      ]
    },
    {
      "cell_type": "code",
      "metadata": {
        "colab": {
          "base_uri": "https://localhost:8080/"
        },
        "id": "0qZmILMELroz",
        "outputId": "7476b67d-dfff-4571-f728-52625a904d61"
      },
      "source": [
        "df.describe().select('summary','rate_marriage','age','yrs_married','children','religious').show()"
      ],
      "execution_count": null,
      "outputs": [
        {
          "output_type": "stream",
          "text": [
            "+-------+------------------+------------------+-----------------+------------------+------------------+\n",
            "|summary|     rate_marriage|               age|      yrs_married|          children|         religious|\n",
            "+-------+------------------+------------------+-----------------+------------------+------------------+\n",
            "|  count|              6366|              6366|             6366|              6366|              6366|\n",
            "|   mean| 4.109644989004084|29.082862079798932| 9.00942507068803|1.3968740182218033|2.4261702796104303|\n",
            "| stddev|0.9614295945655025| 6.847881883668817|7.280119972766412| 1.433470828560344|0.8783688402641785|\n",
            "|    min|                 1|              17.5|              0.5|               0.0|                 1|\n",
            "|    max|                 5|              42.0|             23.0|               5.5|                 4|\n",
            "+-------+------------------+------------------+-----------------+------------------+------------------+\n",
            "\n"
          ],
          "name": "stdout"
        }
      ]
    },
    {
      "cell_type": "markdown",
      "metadata": {
        "id": "RIpFq-eUMifZ"
      },
      "source": [
        "Let us explore individual columns to understand the data in deeper\n",
        "detail. The groupBy function used along with counts returns us the\n",
        "frequency of each of the categories in the data"
      ]
    },
    {
      "cell_type": "code",
      "metadata": {
        "colab": {
          "base_uri": "https://localhost:8080/"
        },
        "id": "E5sV71LLMg19",
        "outputId": "0d87fad1-5060-4c9a-cc62-633fb6b6198e"
      },
      "source": [
        "df.groupBy('affairs').count().show()"
      ],
      "execution_count": null,
      "outputs": [
        {
          "output_type": "stream",
          "text": [
            "+-------+-----+\n",
            "|affairs|count|\n",
            "+-------+-----+\n",
            "|      1| 2053|\n",
            "|      0| 4313|\n",
            "+-------+-----+\n",
            "\n"
          ],
          "name": "stdout"
        }
      ]
    },
    {
      "cell_type": "markdown",
      "metadata": {
        "id": "W0glOxVpMx9N"
      },
      "source": [
        "More than 33% of the people who are involved in some\n",
        "sort of extramarital affair out of a total number of people"
      ]
    },
    {
      "cell_type": "code",
      "metadata": {
        "colab": {
          "base_uri": "https://localhost:8080/"
        },
        "id": "TJ7dnmB9M0gb",
        "outputId": "5423a6bf-2aaf-4f59-b4e4-1b257ee30d64"
      },
      "source": [
        "df.groupBy('rate_marriage').count().show()"
      ],
      "execution_count": null,
      "outputs": [
        {
          "output_type": "stream",
          "text": [
            "+-------------+-----+\n",
            "|rate_marriage|count|\n",
            "+-------------+-----+\n",
            "|            1|   99|\n",
            "|            3|  993|\n",
            "|            5| 2684|\n",
            "|            4| 2242|\n",
            "|            2|  348|\n",
            "+-------------+-----+\n",
            "\n"
          ],
          "name": "stdout"
        }
      ]
    },
    {
      "cell_type": "markdown",
      "metadata": {
        "id": "77pXpRhUM_d8"
      },
      "source": [
        "The majority of the people rate their marriage very high (4 or 5), and\n",
        "the rest rate it on the lower side. Let’s drill down a little bit further to\n",
        "understand if the marriage rating is related to the affair variable or not."
      ]
    },
    {
      "cell_type": "code",
      "metadata": {
        "colab": {
          "base_uri": "https://localhost:8080/"
        },
        "id": "-ig0jbZENAh8",
        "outputId": "6d2e6877-6980-4024-f81f-7b5d20d3a9aa"
      },
      "source": [
        "df.groupBy('rate_marriage','affairs').count().orderBy('rate_marriage','affairs','count',ascending=True).show()"
      ],
      "execution_count": null,
      "outputs": [
        {
          "output_type": "stream",
          "text": [
            "+-------------+-------+-----+\n",
            "|rate_marriage|affairs|count|\n",
            "+-------------+-------+-----+\n",
            "|            1|      0|   25|\n",
            "|            1|      1|   74|\n",
            "|            2|      0|  127|\n",
            "|            2|      1|  221|\n",
            "|            3|      0|  446|\n",
            "|            3|      1|  547|\n",
            "|            4|      0| 1518|\n",
            "|            4|      1|  724|\n",
            "|            5|      0| 2197|\n",
            "|            5|      1|  487|\n",
            "+-------------+-------+-----+\n",
            "\n"
          ],
          "name": "stdout"
        }
      ]
    },
    {
      "cell_type": "code",
      "metadata": {
        "colab": {
          "base_uri": "https://localhost:8080/"
        },
        "id": "I1tGKCeRN8HR",
        "outputId": "825b4f1b-c555-41ca-b93b-0a9886b2e7be"
      },
      "source": [
        "df.groupBy('religious','affairs').count().orderBy('religious','affairs','count',ascending=True).show()"
      ],
      "execution_count": null,
      "outputs": [
        {
          "output_type": "stream",
          "text": [
            "+---------+-------+-----+\n",
            "|religious|affairs|count|\n",
            "+---------+-------+-----+\n",
            "|        1|      0|  613|\n",
            "|        1|      1|  408|\n",
            "|        2|      0| 1448|\n",
            "|        2|      1|  819|\n",
            "|        3|      0| 1715|\n",
            "|        3|      1|  707|\n",
            "|        4|      0|  537|\n",
            "|        4|      1|  119|\n",
            "+---------+-------+-----+\n",
            "\n"
          ],
          "name": "stdout"
        }
      ]
    },
    {
      "cell_type": "markdown",
      "metadata": {
        "id": "e4bKlzxNOgqZ"
      },
      "source": [
        "people who have rated lower on religious features have\n",
        "higher percentage of affair involvement"
      ]
    },
    {
      "cell_type": "code",
      "metadata": {
        "colab": {
          "base_uri": "https://localhost:8080/"
        },
        "id": "a5dFl_iYOktD",
        "outputId": "7387494a-5485-4dda-a128-85d85ad918bf"
      },
      "source": [
        "df.groupBy('affairs','children').count().orderBy('affairs','children','count').show()"
      ],
      "execution_count": null,
      "outputs": [
        {
          "output_type": "stream",
          "text": [
            "+-------+--------+-----+\n",
            "|affairs|children|count|\n",
            "+-------+--------+-----+\n",
            "|      0|     0.0| 1912|\n",
            "|      0|     1.0|  747|\n",
            "|      0|     2.0|  873|\n",
            "|      0|     3.0|  460|\n",
            "|      0|     4.0|  197|\n",
            "|      0|     5.5|  124|\n",
            "|      1|     0.0|  502|\n",
            "|      1|     1.0|  412|\n",
            "|      1|     2.0|  608|\n",
            "|      1|     3.0|  321|\n",
            "|      1|     4.0|  131|\n",
            "|      1|     5.5|   79|\n",
            "+-------+--------+-----+\n",
            "\n"
          ],
          "name": "stdout"
        }
      ]
    },
    {
      "cell_type": "markdown",
      "metadata": {
        "id": "ZYjFSHa4Pfnn"
      },
      "source": [
        "The above table does not clearly indicate any of the trends regarding\n",
        "the relation between the number of children and chances of being\n",
        "involved in an affair"
      ]
    },
    {
      "cell_type": "code",
      "metadata": {
        "colab": {
          "base_uri": "https://localhost:8080/"
        },
        "id": "KO_m6NthPgVE",
        "outputId": "4e7bd728-f883-4935-a21c-21cd5ecbde57"
      },
      "source": [
        "#Use the groupBy function along with the mean to know more about the dataset\n",
        "df.groupBy('affairs').mean().show()"
      ],
      "execution_count": null,
      "outputs": [
        {
          "output_type": "stream",
          "text": [
            "+-------+------------------+------------------+------------------+------------------+------------------+------------+\n",
            "|affairs|avg(rate_marriage)|          avg(age)|  avg(yrs_married)|     avg(children)|    avg(religious)|avg(affairs)|\n",
            "+-------+------------------+------------------+------------------+------------------+------------------+------------+\n",
            "|      1|3.6473453482708234|30.537018996590355|11.152459814905017|1.7289332683877252| 2.261568436434486|         1.0|\n",
            "|      0| 4.329700904242986| 28.39067934152562| 7.989334569904939|1.2388128912589844|2.5045212149316023|         0.0|\n",
            "+-------+------------------+------------------+------------------+------------------+------------------+------------+\n",
            "\n"
          ],
          "name": "stdout"
        }
      ]
    },
    {
      "cell_type": "markdown",
      "metadata": {
        "id": "UceTnmG7P4WE"
      },
      "source": [
        "So, the people who have affairs rate their marriages low and a little on\n",
        "the higher side from an age standpoint. They have also been married for a\n",
        "higher number of years and are less religious."
      ]
    },
    {
      "cell_type": "markdown",
      "metadata": {
        "id": "hRITmw40Qb10"
      },
      "source": [
        "Step **4**: Feature Engineering"
      ]
    },
    {
      "cell_type": "code",
      "metadata": {
        "id": "NmJ7B5QxQfyb"
      },
      "source": [
        "from pyspark.ml.feature import VectorAssembler"
      ],
      "execution_count": null,
      "outputs": []
    },
    {
      "cell_type": "code",
      "metadata": {
        "colab": {
          "base_uri": "https://localhost:8080/"
        },
        "id": "csU07qGmQmmJ",
        "outputId": "56e67826-834f-464d-c48f-0b1d9b6016dc"
      },
      "source": [
        "df_assembler = VectorAssembler(inputCols= ['rate_marriage','age','yrs_married','children','religious'],outputCol='features')\n",
        "df =df_assembler.transform(df)\n",
        "df.printSchema()"
      ],
      "execution_count": null,
      "outputs": [
        {
          "output_type": "stream",
          "text": [
            "root\n",
            " |-- rate_marriage: integer (nullable = true)\n",
            " |-- age: double (nullable = true)\n",
            " |-- yrs_married: double (nullable = true)\n",
            " |-- children: double (nullable = true)\n",
            " |-- religious: integer (nullable = true)\n",
            " |-- affairs: integer (nullable = true)\n",
            " |-- features: vector (nullable = true)\n",
            "\n"
          ],
          "name": "stdout"
        }
      ]
    },
    {
      "cell_type": "markdown",
      "metadata": {
        "id": "VPEJ0mvqRc9r"
      },
      "source": [
        "As we can see, now we have one extra column named features, which\n",
        "is nothing but a combination of all the input features represented as a\n",
        "single dense vector"
      ]
    },
    {
      "cell_type": "code",
      "metadata": {
        "id": "FxkDYi6sReID"
      },
      "source": [
        "model_df = df.select('features','affairs')"
      ],
      "execution_count": null,
      "outputs": []
    },
    {
      "cell_type": "markdown",
      "metadata": {
        "id": "eHxXAra6RxE1"
      },
      "source": [
        "Step **5**: Splitting the Dataset"
      ]
    },
    {
      "cell_type": "code",
      "metadata": {
        "colab": {
          "base_uri": "https://localhost:8080/"
        },
        "id": "S_uEjytlP5GK",
        "outputId": "7451165c-c950-433a-9e03-723a92aeb59b"
      },
      "source": [
        "train_df,test_df = model_df.randomSplit([0.75,0.25])\n",
        "train_df.groupBy('affairs').count().show()"
      ],
      "execution_count": null,
      "outputs": [
        {
          "output_type": "stream",
          "text": [
            "+-------+-----+\n",
            "|affairs|count|\n",
            "+-------+-----+\n",
            "|      1| 1545|\n",
            "|      0| 3241|\n",
            "+-------+-----+\n",
            "\n"
          ],
          "name": "stdout"
        }
      ]
    },
    {
      "cell_type": "markdown",
      "metadata": {
        "id": "o76lkBR6SOcQ"
      },
      "source": [
        "This ensures we have balanced set values for the target class (‘affairs’)\n",
        "into the training and test sets."
      ]
    },
    {
      "cell_type": "code",
      "metadata": {
        "colab": {
          "base_uri": "https://localhost:8080/"
        },
        "id": "9tTvQEYSSPCQ",
        "outputId": "193ac984-fc84-4a88-bd2e-f9eaa682aaa3"
      },
      "source": [
        "test_df.groupBy('affairs').count().show()"
      ],
      "execution_count": null,
      "outputs": [
        {
          "output_type": "stream",
          "text": [
            "+-------+-----+\n",
            "|affairs|count|\n",
            "+-------+-----+\n",
            "|      1|  508|\n",
            "|      0| 1072|\n",
            "+-------+-----+\n",
            "\n"
          ],
          "name": "stdout"
        }
      ]
    },
    {
      "cell_type": "markdown",
      "metadata": {
        "id": "qQqL_HncSUGg"
      },
      "source": [
        "Step **6**: Build and Train Random Forest Model"
      ]
    },
    {
      "cell_type": "code",
      "metadata": {
        "id": "jVB2qDQdSlxx"
      },
      "source": [
        "from pyspark.ml.classification import RandomForestClassifier\n",
        "\n",
        "rf_classifier = RandomForestClassifier(labelCol='affairs',numTrees=50).fit(train_df)"
      ],
      "execution_count": null,
      "outputs": []
    },
    {
      "cell_type": "markdown",
      "metadata": {
        "id": "uO_leEHSTALx"
      },
      "source": [
        "here are many hyperparameters that can be set to tweak the\n",
        "performance of the model, but we are chosing the deafault ones here\n",
        "except for one that is the number of decision trees that we want to build"
      ]
    },
    {
      "cell_type": "markdown",
      "metadata": {
        "id": "bTjHA5CjTBcr"
      },
      "source": [
        "Step **7**: Evaluation on Test Data\n"
      ]
    },
    {
      "cell_type": "code",
      "metadata": {
        "id": "xB-B7srZTDxj"
      },
      "source": [
        "rf_predictions=rf_classifier.transform(test_df)"
      ],
      "execution_count": null,
      "outputs": []
    },
    {
      "cell_type": "code",
      "metadata": {
        "colab": {
          "base_uri": "https://localhost:8080/"
        },
        "id": "JGDtJmvxTA4m",
        "outputId": "3f612184-a298-41e9-fb69-4ae1f4c8ee5f"
      },
      "source": [
        "rf_predictions.show()"
      ],
      "execution_count": null,
      "outputs": [
        {
          "output_type": "stream",
          "text": [
            "+--------------------+-------+--------------------+--------------------+----------+\n",
            "|            features|affairs|       rawPrediction|         probability|prediction|\n",
            "+--------------------+-------+--------------------+--------------------+----------+\n",
            "|[1.0,27.0,2.5,1.0...|      1|[21.7055600424835...|[0.43411120084967...|       1.0|\n",
            "|[1.0,27.0,6.0,1.0...|      1|[18.9464042910167...|[0.37892808582033...|       1.0|\n",
            "|[1.0,27.0,6.0,1.0...|      0|[17.7000559162815...|[0.35400111832563...|       1.0|\n",
            "|[1.0,27.0,6.0,1.0...|      0|[17.6632372843970...|[0.35326474568794...|       1.0|\n",
            "|[1.0,27.0,9.0,2.0...|      1|[15.7081951289924...|[0.31416390257984...|       1.0|\n",
            "|[1.0,27.0,13.0,2....|      1|[15.6270411156630...|[0.31254082231326...|       1.0|\n",
            "|[1.0,32.0,9.0,3.0...|      1|[15.9350126791239...|[0.31870025358247...|       1.0|\n",
            "|[1.0,32.0,13.0,2....|      0|[17.2515120817907...|[0.34503024163581...|       1.0|\n",
            "|[1.0,32.0,13.0,3....|      1|[19.2210783384767...|[0.38442156676953...|       1.0|\n",
            "|[1.0,32.0,13.0,3....|      1|[19.2210783384767...|[0.38442156676953...|       1.0|\n",
            "|[1.0,32.0,16.5,2....|      1|[15.4876365772042...|[0.30975273154408...|       1.0|\n",
            "|[1.0,32.0,16.5,4....|      1|[17.9770653881370...|[0.35954130776274...|       1.0|\n",
            "|[1.0,32.0,16.5,5....|      0|[14.2043371956774...|[0.28408674391354...|       1.0|\n",
            "|[1.0,37.0,13.0,3....|      1|[16.4189391582857...|[0.32837878316571...|       1.0|\n",
            "|[1.0,37.0,16.5,1....|      1|[15.8801545654772...|[0.31760309130954...|       1.0|\n",
            "|[1.0,37.0,16.5,3....|      1|[14.1528035814899...|[0.28305607162979...|       1.0|\n",
            "|[1.0,37.0,23.0,4....|      1|[14.7213756226925...|[0.29442751245385...|       1.0|\n",
            "|[1.0,37.0,23.0,5....|      1|[14.7213756226925...|[0.29442751245385...|       1.0|\n",
            "|[1.0,42.0,13.0,2....|      0|[16.1439130121413...|[0.32287826024282...|       1.0|\n",
            "|[1.0,42.0,16.5,5....|      1|[14.3248167503090...|[0.28649633500618...|       1.0|\n",
            "+--------------------+-------+--------------------+--------------------+----------+\n",
            "only showing top 20 rows\n",
            "\n"
          ],
          "name": "stdout"
        }
      ]
    },
    {
      "cell_type": "markdown",
      "metadata": {
        "id": "jeRZ8YhATkhR"
      },
      "source": [
        "The first column in the predictions table is that of input features of the\n",
        "test data. The second column is the actual label or output of the test data.\n",
        "The third column (rawPrediction) represents the measure of confidence\n",
        "for both possible outputs. The fourth column is that of conditional\n",
        "probability of each class label, and the final column is the prediction by the\n",
        "random forest classifier."
      ]
    },
    {
      "cell_type": "markdown",
      "metadata": {
        "id": "_-mqogmQTlcC"
      },
      "source": [
        "Apply a groupBy function on the prediction\n",
        "column to find out the number of predictions made for the positive and\n",
        "negative classes."
      ]
    },
    {
      "cell_type": "code",
      "metadata": {
        "colab": {
          "base_uri": "https://localhost:8080/"
        },
        "id": "pUpW_THwTqfJ",
        "outputId": "1c621f84-3f1d-4f55-bba2-5fd935b2a4b7"
      },
      "source": [
        "rf_predictions.groupBy('prediction').count().show()"
      ],
      "execution_count": null,
      "outputs": [
        {
          "output_type": "stream",
          "text": [
            "+----------+-----+\n",
            "|prediction|count|\n",
            "+----------+-----+\n",
            "|       0.0| 1252|\n",
            "|       1.0|  328|\n",
            "+----------+-----+\n",
            "\n"
          ],
          "name": "stdout"
        }
      ]
    },
    {
      "cell_type": "markdown",
      "metadata": {
        "id": "4tpYG2WLT6rs"
      },
      "source": [
        "To evaluate these preditions, we will import the\n",
        "classificationEvaluators."
      ]
    },
    {
      "cell_type": "code",
      "metadata": {
        "id": "d4DTxRIIT7R5"
      },
      "source": [
        "from pyspark.ml.evaluation import MulticlassClassificationEvaluator"
      ],
      "execution_count": null,
      "outputs": []
    },
    {
      "cell_type": "code",
      "metadata": {
        "id": "AKg8Rf9uUAEF"
      },
      "source": [
        "from pyspark.ml.evaluation import BinaryClassificationEvaluator"
      ],
      "execution_count": null,
      "outputs": []
    },
    {
      "cell_type": "markdown",
      "metadata": {
        "id": "aIW2WBMPUD7y"
      },
      "source": [
        "# Accuracy"
      ]
    },
    {
      "cell_type": "code",
      "metadata": {
        "id": "UOFyNDS1UFsO"
      },
      "source": [
        "rf_accuracy = MulticlassClassificationEvaluator(labelCol='affairs',metricName='accuracy').evaluate(rf_predictions)"
      ],
      "execution_count": null,
      "outputs": []
    },
    {
      "cell_type": "code",
      "metadata": {
        "colab": {
          "base_uri": "https://localhost:8080/"
        },
        "id": "VsFI6UhGUcuB",
        "outputId": "3ebd6f7e-253b-4267-8f7d-be089bfd5aa3"
      },
      "source": [
        "print('The accuracy of RF on test data is {0:.0%}'.format(rf_accuracy))"
      ],
      "execution_count": null,
      "outputs": [
        {
          "output_type": "stream",
          "text": [
            "The accuracy of RF on test data is 72%\n"
          ],
          "name": "stdout"
        }
      ]
    },
    {
      "cell_type": "markdown",
      "metadata": {
        "id": "XbXQHJLHUiuV"
      },
      "source": [
        "# Precision"
      ]
    },
    {
      "cell_type": "code",
      "metadata": {
        "id": "iKLI0wt2UklR"
      },
      "source": [
        "rf_precision=MulticlassClassificationEvaluator(labelCol='affairs',metricName='weightedPrecision').evaluate(rf_predictions)"
      ],
      "execution_count": null,
      "outputs": []
    },
    {
      "cell_type": "code",
      "metadata": {
        "colab": {
          "base_uri": "https://localhost:8080/"
        },
        "id": "QWUKQSEXUqSe",
        "outputId": "1b53e6e1-9f78-49f2-b74a-6e354315ee1b"
      },
      "source": [
        "print('The precision rate on test data is {0:.0%}'.\n",
        "format(rf_precision))"
      ],
      "execution_count": null,
      "outputs": [
        {
          "output_type": "stream",
          "text": [
            "The precision rate on test data is 70%\n"
          ],
          "name": "stdout"
        }
      ]
    },
    {
      "cell_type": "markdown",
      "metadata": {
        "id": "x1Vu3bw5UyE_"
      },
      "source": [
        "# AUC"
      ]
    },
    {
      "cell_type": "code",
      "metadata": {
        "id": "Z0a7BN34Uxfa"
      },
      "source": [
        "rf_auc=BinaryClassificationEvaluator(labelCol='affairs').evaluate(rf_predictions)"
      ],
      "execution_count": null,
      "outputs": []
    },
    {
      "cell_type": "code",
      "metadata": {
        "colab": {
          "base_uri": "https://localhost:8080/"
        },
        "id": "INdJke3ZXMwF",
        "outputId": "eb3e2a25-75f7-43a5-8653-09a204d624ed"
      },
      "source": [
        "print( rf_auc)"
      ],
      "execution_count": null,
      "outputs": [
        {
          "output_type": "stream",
          "text": [
            "0.7417183276530734\n"
          ],
          "name": "stdout"
        }
      ]
    },
    {
      "cell_type": "markdown",
      "metadata": {
        "id": "gbppbPQoXTCz"
      },
      "source": [
        "RF gives the importance of each\n",
        "feature in terms of predictive power, and it is very useful to figure out the\n",
        "critical variables that contribute the most to predictions."
      ]
    },
    {
      "cell_type": "code",
      "metadata": {
        "colab": {
          "base_uri": "https://localhost:8080/"
        },
        "id": "iKK_sLawXT5W",
        "outputId": "a25dc5a0-f955-4675-dd78-c6836d066935"
      },
      "source": [
        "rf_classifier.featureImportances"
      ],
      "execution_count": null,
      "outputs": [
        {
          "output_type": "execute_result",
          "data": {
            "text/plain": [
              "SparseVector(5, {0: 0.6156, 1: 0.0275, 2: 0.2394, 3: 0.0591, 4: 0.0583})"
            ]
          },
          "metadata": {
            "tags": []
          },
          "execution_count": 46
        }
      ]
    },
    {
      "cell_type": "markdown",
      "metadata": {
        "id": "dkctjuMzXg71"
      },
      "source": [
        "We used five features and the importance can be found out using the\n",
        "feature importance function. To know which input feature is mapped to\n",
        "which index values, we can use metadata information."
      ]
    },
    {
      "cell_type": "code",
      "metadata": {
        "colab": {
          "base_uri": "https://localhost:8080/"
        },
        "id": "26p3t5eVXk5f",
        "outputId": "c5396ae1-c0a0-42f3-b663-fd15869fb01a"
      },
      "source": [
        "df.schema[\"features\"].metadata[\"ml_attr\"][\"attrs\"]"
      ],
      "execution_count": null,
      "outputs": [
        {
          "output_type": "execute_result",
          "data": {
            "text/plain": [
              "{'numeric': [{'idx': 0, 'name': 'rate_marriage'},\n",
              "  {'idx': 1, 'name': 'age'},\n",
              "  {'idx': 2, 'name': 'yrs_married'},\n",
              "  {'idx': 3, 'name': 'children'},\n",
              "  {'idx': 4, 'name': 'religious'}]}"
            ]
          },
          "metadata": {
            "tags": []
          },
          "execution_count": 47
        }
      ]
    },
    {
      "cell_type": "markdown",
      "metadata": {
        "id": "MTQTQLQOX3Wo"
      },
      "source": [
        "So, rate_marriage is the most important feature from a prediction\n",
        "standpoint followed by yrs_married. The least significant variable seems to\n",
        "be Age."
      ]
    },
    {
      "cell_type": "markdown",
      "metadata": {
        "id": "wGwmfkd5X6PO"
      },
      "source": [
        "Step **8**: Saving the Model"
      ]
    },
    {
      "cell_type": "markdown",
      "metadata": {
        "id": "UPvZoVegX8Yc"
      },
      "source": [
        "1-Save the ML model"
      ]
    },
    {
      "cell_type": "code",
      "metadata": {
        "colab": {
          "base_uri": "https://localhost:8080/",
          "height": 35
        },
        "id": "58Z6O97FYM3X",
        "outputId": "fc091190-f084-444d-fa5f-b545b7607979"
      },
      "source": [
        "pwd"
      ],
      "execution_count": null,
      "outputs": [
        {
          "output_type": "execute_result",
          "data": {
            "application/vnd.google.colaboratory.intrinsic+json": {
              "type": "string"
            },
            "text/plain": [
              "'/content'"
            ]
          },
          "metadata": {
            "tags": []
          },
          "execution_count": 48
        }
      ]
    },
    {
      "cell_type": "code",
      "metadata": {
        "id": "lTlO43EhXgHa"
      },
      "source": [
        "from pyspark.ml.classification import RandomForestClassificationModel\n",
        "rf_classifier.save(\"/content/RF_model\")"
      ],
      "execution_count": null,
      "outputs": []
    },
    {
      "cell_type": "markdown",
      "metadata": {
        "id": "6lYnsXFXYb5D"
      },
      "source": [
        "2-Load the ML model"
      ]
    },
    {
      "cell_type": "code",
      "metadata": {
        "id": "ELwjMeQPYdb5"
      },
      "source": [
        "rf=RandomForestClassificationModel.load(\"/content/RF_model\")\n",
        "#new_preditions=rf.transform(new_df)\n",
        "#A new predictions table would contain the column with the model predictions"
      ],
      "execution_count": null,
      "outputs": []
    }
  ]
}