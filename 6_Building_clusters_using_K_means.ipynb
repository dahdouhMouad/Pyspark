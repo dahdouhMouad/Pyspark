{
  "nbformat": 4,
  "nbformat_minor": 0,
  "metadata": {
    "colab": {
      "name": "6_Building_clusters_using_K_means_IRIS_dataset_in_PySpark - Copy.ipynb",
      "provenance": [],
      "collapsed_sections": []
    },
    "kernelspec": {
      "name": "python3",
      "display_name": "Python 3"
    }
  },
  "cells": [
    {
      "cell_type": "markdown",
      "metadata": {
        "id": "-WQmYNjh2GIq"
      },
      "source": [
        "# **Building clusters using K-means in PySpark**"
      ]
    },
    {
      "cell_type": "markdown",
      "metadata": {
        "id": "s1l-R9Nl2-cv"
      },
      "source": [
        "Pyspark in Colab "
      ]
    },
    {
      "cell_type": "code",
      "metadata": {
        "colab": {
          "base_uri": "https://localhost:8080/"
        },
        "id": "HHeVxh4G2MWp",
        "outputId": "ad5b3f05-3120-483e-e668-34d7fac951cb"
      },
      "source": [
        "!apt-get update"
      ],
      "execution_count": null,
      "outputs": [
        {
          "output_type": "stream",
          "text": [
            "\r0% [Working]\r            \rGet:1 http://security.ubuntu.com/ubuntu bionic-security InRelease [88.7 kB]\n",
            "Get:2 https://cloud.r-project.org/bin/linux/ubuntu bionic-cran40/ InRelease [3,626 B]\n",
            "Ign:3 https://developer.download.nvidia.com/compute/cuda/repos/ubuntu1804/x86_64  InRelease\n",
            "Ign:4 https://developer.download.nvidia.com/compute/machine-learning/repos/ubuntu1804/x86_64  InRelease\n",
            "Get:5 https://developer.download.nvidia.com/compute/cuda/repos/ubuntu1804/x86_64  Release [697 B]\n",
            "Get:6 http://ppa.launchpad.net/c2d4u.team/c2d4u4.0+/ubuntu bionic InRelease [15.9 kB]\n",
            "Hit:7 https://developer.download.nvidia.com/compute/machine-learning/repos/ubuntu1804/x86_64  Release\n",
            "Get:8 https://developer.download.nvidia.com/compute/cuda/repos/ubuntu1804/x86_64  Release.gpg [836 B]\n",
            "Hit:9 http://archive.ubuntu.com/ubuntu bionic InRelease\n",
            "Get:10 http://archive.ubuntu.com/ubuntu bionic-updates InRelease [88.7 kB]\n",
            "Get:11 http://ppa.launchpad.net/graphics-drivers/ppa/ubuntu bionic InRelease [21.3 kB]\n",
            "Get:12 http://security.ubuntu.com/ubuntu bionic-security/main amd64 Packages [1,781 kB]\n",
            "Get:13 http://archive.ubuntu.com/ubuntu bionic-backports InRelease [74.6 kB]\n",
            "Get:14 http://security.ubuntu.com/ubuntu bionic-security/universe amd64 Packages [1,366 kB]\n",
            "Ign:16 https://developer.download.nvidia.com/compute/cuda/repos/ubuntu1804/x86_64  Packages\n",
            "Get:16 https://developer.download.nvidia.com/compute/cuda/repos/ubuntu1804/x86_64  Packages [443 kB]\n",
            "Get:17 http://ppa.launchpad.net/c2d4u.team/c2d4u4.0+/ubuntu bionic/main Sources [1,690 kB]\n",
            "Get:18 http://archive.ubuntu.com/ubuntu bionic-updates/main amd64 Packages [2,208 kB]\n",
            "Get:19 http://archive.ubuntu.com/ubuntu bionic-updates/multiverse amd64 Packages [54.3 kB]\n",
            "Get:20 http://archive.ubuntu.com/ubuntu bionic-updates/universe amd64 Packages [2,131 kB]\n",
            "Get:21 http://archive.ubuntu.com/ubuntu bionic-updates/restricted amd64 Packages [252 kB]\n",
            "Get:22 http://ppa.launchpad.net/c2d4u.team/c2d4u4.0+/ubuntu bionic/main amd64 Packages [865 kB]\n",
            "Get:23 http://ppa.launchpad.net/graphics-drivers/ppa/ubuntu bionic/main amd64 Packages [46.5 kB]\n",
            "Fetched 11.1 MB in 4s (2,761 kB/s)\n",
            "Reading package lists... Done\n"
          ],
          "name": "stdout"
        }
      ]
    },
    {
      "cell_type": "code",
      "metadata": {
        "id": "0ygIZszi2TWM"
      },
      "source": [
        "!apt-get install openjdk-8-jdk-headless -qq > /dev/null\n",
        "!wget -q https://downloads.apache.org/spark/spark-2.4.7/spark-2.4.7-bin-hadoop2.7.tgz\n",
        "!tar xf spark-2.4.7-bin-hadoop2.7.tgz\n",
        "!pip install -q findspark"
      ],
      "execution_count": null,
      "outputs": []
    },
    {
      "cell_type": "code",
      "metadata": {
        "id": "Gd7dUE242WaW"
      },
      "source": [
        "import os\n",
        "os.environ[\"JAVA_HOME\"] = \"/usr/lib/jvm/java-8-openjdk-amd64\"\n",
        "os.environ[\"SPARK_HOME\"] = \"/content/spark-2.4.7-bin-hadoop2.7\""
      ],
      "execution_count": null,
      "outputs": []
    },
    {
      "cell_type": "code",
      "metadata": {
        "id": "IguWm4Yg2X9U"
      },
      "source": [
        "import findspark\n",
        "findspark.init()"
      ],
      "execution_count": null,
      "outputs": []
    },
    {
      "cell_type": "markdown",
      "metadata": {
        "id": "hQ4KyuG728br"
      },
      "source": [
        "# Data Info"
      ]
    },
    {
      "cell_type": "markdown",
      "metadata": {
        "id": "Va2NAPKX3Ql3"
      },
      "source": [
        "IRIS dataset contains a total of 150 records with 5 columns\n",
        "(sepal length, sepal width, petal length, petal width, species). There are\n",
        "50 records for each type of species. We will group them into clusters\n",
        "without using the species label information"
      ]
    },
    {
      "cell_type": "markdown",
      "metadata": {
        "id": "NtWUj8U53kmC"
      },
      "source": [
        "# Step 1: Create the SparkSession"
      ]
    },
    {
      "cell_type": "code",
      "metadata": {
        "id": "ZFkGVZqD3uuB"
      },
      "source": [
        "from pyspark.sql import SparkSession\n",
        "spark = SparkSession.builder.appName('K_means').getOrCreate()"
      ],
      "execution_count": null,
      "outputs": []
    },
    {
      "cell_type": "markdown",
      "metadata": {
        "id": "MQA_eTqT4RKz"
      },
      "source": [
        "# Step 2: Read the Dataset"
      ]
    },
    {
      "cell_type": "code",
      "metadata": {
        "id": "_nWXNAgT4ZbR"
      },
      "source": [
        "df=spark.read.csv('iris_dataset.csv',header=True,inferSchema=True)"
      ],
      "execution_count": null,
      "outputs": []
    },
    {
      "cell_type": "markdown",
      "metadata": {
        "id": "xnAFTnJn4rpr"
      },
      "source": [
        "# Step 3: Explorary Data Analysis"
      ]
    },
    {
      "cell_type": "code",
      "metadata": {
        "colab": {
          "base_uri": "https://localhost:8080/"
        },
        "id": "O5MVppf_45jQ",
        "outputId": "a67af737-50a1-4b31-9d2c-a9d89370d12a"
      },
      "source": [
        "#Shape\n",
        "print((df.count(),len(df.columns)))"
      ],
      "execution_count": null,
      "outputs": [
        {
          "output_type": "stream",
          "text": [
            "(150, 5)\n"
          ],
          "name": "stdout"
        }
      ]
    },
    {
      "cell_type": "code",
      "metadata": {
        "colab": {
          "base_uri": "https://localhost:8080/"
        },
        "id": "ijPLCdUW588H",
        "outputId": "9dbb3ec4-7f4c-4936-aa9e-6ad4b26c70d6"
      },
      "source": [
        "#Check if we need To change/cast any Columns datatypes\n",
        "df.printSchema()"
      ],
      "execution_count": null,
      "outputs": [
        {
          "output_type": "stream",
          "text": [
            "root\n",
            " |-- sepal_length: double (nullable = true)\n",
            " |-- sepal_width: double (nullable = true)\n",
            " |-- petal_length: double (nullable = true)\n",
            " |-- petal_width: double (nullable = true)\n",
            " |-- species: string (nullable = true)\n",
            "\n"
          ],
          "name": "stdout"
        }
      ]
    },
    {
      "cell_type": "markdown",
      "metadata": {
        "id": "EpmpR0DG6Nv6"
      },
      "source": [
        "There is a total of five columns out of which four are numerical and the\n",
        "label column is categorical."
      ]
    },
    {
      "cell_type": "code",
      "metadata": {
        "colab": {
          "base_uri": "https://localhost:8080/"
        },
        "id": "wC0DsUF-6OcB",
        "outputId": "b1b3e770-6312-4622-f9fc-ba0cff3964f5"
      },
      "source": [
        "from pyspark.sql.functions import rand\n",
        "df.orderBy(rand()).show(10,False)"
      ],
      "execution_count": null,
      "outputs": [
        {
          "output_type": "stream",
          "text": [
            "+------------+-----------+------------+-----------+----------+\n",
            "|sepal_length|sepal_width|petal_length|petal_width|species   |\n",
            "+------------+-----------+------------+-----------+----------+\n",
            "|4.4         |3.2        |1.3         |0.2        |setosa    |\n",
            "|5.4         |3.7        |1.5         |0.2        |setosa    |\n",
            "|5.2         |4.1        |1.5         |0.1        |setosa    |\n",
            "|7.7         |2.6        |6.9         |2.3        |virginica |\n",
            "|5.8         |2.7        |5.1         |1.9        |virginica |\n",
            "|6.3         |3.4        |5.6         |2.4        |virginica |\n",
            "|6.3         |2.9        |5.6         |1.8        |virginica |\n",
            "|6.5         |3.2        |5.1         |2.0        |virginica |\n",
            "|6.6         |2.9        |4.6         |1.3        |versicolor|\n",
            "|6.3         |2.7        |4.9         |1.8        |virginica |\n",
            "+------------+-----------+------------+-----------+----------+\n",
            "only showing top 10 rows\n",
            "\n"
          ],
          "name": "stdout"
        }
      ]
    },
    {
      "cell_type": "code",
      "metadata": {
        "colab": {
          "base_uri": "https://localhost:8080/"
        },
        "id": "Fg-TFIk3A1Ex",
        "outputId": "e2a26737-32a3-4467-b885-874d19071e6d"
      },
      "source": [
        "df.groupBy('species').count().orderBy('count',ascending=False).show()"
      ],
      "execution_count": null,
      "outputs": [
        {
          "output_type": "stream",
          "text": [
            "+----------+-----+\n",
            "|   species|count|\n",
            "+----------+-----+\n",
            "| virginica|   50|\n",
            "|versicolor|   50|\n",
            "|    setosa|   50|\n",
            "+----------+-----+\n",
            "\n"
          ],
          "name": "stdout"
        }
      ]
    },
    {
      "cell_type": "markdown",
      "metadata": {
        "id": "rP28w_kuBFse"
      },
      "source": [
        "It confirms that there are an equal number of records for each\n",
        "species available in the dataset"
      ]
    },
    {
      "cell_type": "markdown",
      "metadata": {
        "id": "Z_bSoKYNBIbT"
      },
      "source": [
        "# Step4 : Feature Engineering"
      ]
    },
    {
      "cell_type": "markdown",
      "metadata": {
        "id": "0VmKGJjXBN0i"
      },
      "source": [
        "Create a single vector combining all input\n",
        "features by using Spark’s VectorAssembler(we are not considering a label column\n",
        "since it's an unsupervised machine learning technique), it essentially\n",
        "translates it into a single column with four input values in the form\n",
        "of a list"
      ]
    },
    {
      "cell_type": "code",
      "metadata": {
        "colab": {
          "base_uri": "https://localhost:8080/"
        },
        "id": "E5cFS8JCBn2o",
        "outputId": "7244afe2-e0db-4567-942a-7e92acc55dcd"
      },
      "source": [
        "df.columns"
      ],
      "execution_count": null,
      "outputs": [
        {
          "output_type": "execute_result",
          "data": {
            "text/plain": [
              "['sepal_length', 'sepal_width', 'petal_length', 'petal_width', 'species']"
            ]
          },
          "metadata": {
            "tags": []
          },
          "execution_count": 22
        }
      ]
    },
    {
      "cell_type": "code",
      "metadata": {
        "id": "K0JEC9eQBcRe"
      },
      "source": [
        "from pyspark.ml.feature import VectorAssembler\n",
        "input_cols = ['sepal_length', 'sepal_width', 'petal_length', 'petal_width']\n",
        "vec_assembler = VectorAssembler(inputCols = input_cols,outputCol='features')\n",
        "final_data = vec_assembler.transform(df)\n"
      ],
      "execution_count": null,
      "outputs": []
    },
    {
      "cell_type": "markdown",
      "metadata": {
        "id": "OW1U3g6t41jS"
      },
      "source": [
        "# Step 5 : Build K-Means Clustering Model"
      ]
    },
    {
      "cell_type": "markdown",
      "metadata": {
        "id": "0eJBoSE0CP2I"
      },
      "source": [
        "**We need to declare the value of ‘K’ in advance before\n",
        "using K-means**\n",
        "- Use elbow method to figure out the right value\n",
        "of ‘K’. \n",
        "\n",
        "\n",
        "-"
      ]
    },
    {
      "cell_type": "markdown",
      "metadata": {
        "id": "uFW1weqaDh6c"
      },
      "source": [
        "To use the elbow method, we run K-means clustering for\n",
        "different values of ‘K’. First, we import K-means from the PySpark library\n",
        "and create an empty list that would capture the variability or SSE (within\n",
        "cluster distance) for each value of K"
      ]
    },
    {
      "cell_type": "code",
      "metadata": {
        "id": "6xYOp-A3DmSq"
      },
      "source": [
        "from pyspark.ml.clustering import KMeans\n",
        "errors = []\n",
        "#the ‘K’ should have a minimum value of 2 to be able to build clusters.\n",
        "for k in range(2,10):#Start,end\n",
        "  kmeans = KMeans(featuresCol='features',k=k)\n",
        "  model = kmeans.fit(final_data)\n",
        "  intra_distance = model.computeCost(final_data)\n",
        "  errors.append(intra_distance)\n",
        "  \n"
      ],
      "execution_count": null,
      "outputs": []
    },
    {
      "cell_type": "markdown",
      "metadata": {
        "id": "rgaFbUt_FZHY"
      },
      "source": [
        "Plot the intracluster distance with the number of clusters\n",
        "using numpy and matplotlib."
      ]
    },
    {
      "cell_type": "code",
      "metadata": {
        "colab": {
          "base_uri": "https://localhost:8080/",
          "height": 279
        },
        "id": "JRUvzxkHFeNN",
        "outputId": "f5ecbac8-0451-4077-f257-b303f832762b"
      },
      "source": [
        "import pandas as pd\n",
        "import numpy as np\n",
        "import matplotlib.pyplot as plt \n",
        "cluster_number = range(2,10)\n",
        "plt.xlabel('Number of Clusters (K)')\n",
        "plt.ylabel('SSE')\n",
        "plt.scatter(cluster_number,errors)\n",
        "plt.show()\n"
      ],
      "execution_count": null,
      "outputs": [
        {
          "output_type": "display_data",
          "data": {
            "image/png": "[encoded data removed]",
            "text/plain": [
              "<Figure size 432x288 with 1 Axes>"
            ]
          },
          "metadata": {
            "tags": [],
            "needs_background": "light"
          }
        }
      ]
    },
    {
      "cell_type": "markdown",
      "metadata": {
        "id": "um-ClHbUDXiV"
      },
      "source": [
        "**K=3** seems to be the best number of clusters as we can see\n",
        "a sort of elbow formation between three and four values."
      ]
    },
    {
      "cell_type": "code",
      "metadata": {
        "id": "z3X7mVaBGmVV"
      },
      "source": [
        "#We build final clusters using k=3.\n",
        "\n",
        "kmeans = KMeans(featuresCol='features',k=3)\n",
        "model = kmeans.fit(final_data)\n"
      ],
      "execution_count": null,
      "outputs": []
    },
    {
      "cell_type": "code",
      "metadata": {
        "colab": {
          "base_uri": "https://localhost:8080/"
        },
        "id": "hxcAt9J2HLAw",
        "outputId": "0f692622-98e6-403f-b29d-5392e2a43c00"
      },
      "source": [
        "model.transform(final_data).groupBy('prediction').count().show()"
      ],
      "execution_count": null,
      "outputs": [
        {
          "output_type": "stream",
          "text": [
            "+----------+-----+\n",
            "|prediction|count|\n",
            "+----------+-----+\n",
            "|         1|   50|\n",
            "|         2|   39|\n",
            "|         0|   61|\n",
            "+----------+-----+\n",
            "\n"
          ],
          "name": "stdout"
        }
      ]
    },
    {
      "cell_type": "markdown",
      "metadata": {
        "id": "_HOQcITuHxYj"
      },
      "source": [
        "K-Means clustering gives us three different clusters based on the IRIS\n",
        "data set. We certainly are making a few of the allocations wrong as only\n",
        "one category has 50 records in the group, and the rest of the categories\n",
        "are mixed up. We can use the transform function to assign the cluster\n",
        "number to the original dataset and use a groupBy function to validate the\n",
        "groupings."
      ]
    },
    {
      "cell_type": "code",
      "metadata": {
        "colab": {
          "base_uri": "https://localhost:8080/"
        },
        "id": "z5fQSNhLHx7E",
        "outputId": "0e2fd9a5-5916-451c-fac3-d78d2d55abda"
      },
      "source": [
        "predictions = model.transform(final_data)\n",
        "predictions.groupBy('species','prediction').count().show()"
      ],
      "execution_count": null,
      "outputs": [
        {
          "output_type": "stream",
          "text": [
            "+----------+----------+-----+\n",
            "|   species|prediction|count|\n",
            "+----------+----------+-----+\n",
            "| virginica|         2|   36|\n",
            "| virginica|         0|   14|\n",
            "|versicolor|         0|   47|\n",
            "|    setosa|         1|   50|\n",
            "|versicolor|         2|    3|\n",
            "+----------+----------+-----+\n",
            "\n"
          ],
          "name": "stdout"
        }
      ]
    },
    {
      "cell_type": "markdown",
      "metadata": {
        "id": "lEOfWhHTIpWd"
      },
      "source": [
        "As it can be observed, the setosa species is perfectly grouped\n",
        "along with versicolor, almost being captured in the same cluster,\n",
        "but verginica seems to fall within two different groups. "
      ]
    },
    {
      "cell_type": "markdown",
      "metadata": {
        "id": "fTK0lHPeIrh2"
      },
      "source": [
        "# Step 6: Visualization of Clusters\n"
      ]
    },
    {
      "cell_type": "code",
      "metadata": {
        "colab": {
          "base_uri": "https://localhost:8080/",
          "height": 299
        },
        "id": "oZQTnEqMI0Wm",
        "outputId": "051277a4-aea4-4264-d77b-1a464a3de6ba"
      },
      "source": [
        "#convert Spark dataset to Pandas \n",
        "pandas_df = predictions.toPandas()\n",
        "pandas_df.head()"
      ],
      "execution_count": null,
      "outputs": [
        {
          "output_type": "execute_result",
          "data": {
            "text/html": [
              "<div>\n",
              "<style scoped>\n",
              "    .dataframe tbody tr th:only-of-type {\n",
              "        vertical-align: middle;\n",
              "    }\n",
              "\n",
              "    .dataframe tbody tr th {\n",
              "        vertical-align: top;\n",
              "    }\n",
              "\n",
              "    .dataframe thead th {\n",
              "        text-align: right;\n",
              "    }\n",
              "</style>\n",
              "<table border=\"1\" class=\"dataframe\">\n",
              "  <thead>\n",
              "    <tr style=\"text-align: right;\">\n",
              "      <th></th>\n",
              "      <th>sepal_length</th>\n",
              "      <th>sepal_width</th>\n",
              "      <th>petal_length</th>\n",
              "      <th>petal_width</th>\n",
              "      <th>species</th>\n",
              "      <th>features</th>\n",
              "      <th>prediction</th>\n",
              "    </tr>\n",
              "  </thead>\n",
              "  <tbody>\n",
              "    <tr>\n",
              "      <th>0</th>\n",
              "      <td>5.1</td>\n",
              "      <td>3.5</td>\n",
              "      <td>1.4</td>\n",
              "      <td>0.2</td>\n",
              "      <td>setosa</td>\n",
              "      <td>[5.1, 3.5, 1.4, 0.2]</td>\n",
              "      <td>1</td>\n",
              "    </tr>\n",
              "    <tr>\n",
              "      <th>1</th>\n",
              "      <td>4.9</td>\n",
              "      <td>3.0</td>\n",
              "      <td>1.4</td>\n",
              "      <td>0.2</td>\n",
              "      <td>setosa</td>\n",
              "      <td>[4.9, 3.0, 1.4, 0.2]</td>\n",
              "      <td>1</td>\n",
              "    </tr>\n",
              "    <tr>\n",
              "      <th>2</th>\n",
              "      <td>4.7</td>\n",
              "      <td>3.2</td>\n",
              "      <td>1.3</td>\n",
              "      <td>0.2</td>\n",
              "      <td>setosa</td>\n",
              "      <td>[4.7, 3.2, 1.3, 0.2]</td>\n",
              "      <td>1</td>\n",
              "    </tr>\n",
              "    <tr>\n",
              "      <th>3</th>\n",
              "      <td>4.6</td>\n",
              "      <td>3.1</td>\n",
              "      <td>1.5</td>\n",
              "      <td>0.2</td>\n",
              "      <td>setosa</td>\n",
              "      <td>[4.6, 3.1, 1.5, 0.2]</td>\n",
              "      <td>1</td>\n",
              "    </tr>\n",
              "    <tr>\n",
              "      <th>4</th>\n",
              "      <td>5.0</td>\n",
              "      <td>3.6</td>\n",
              "      <td>1.4</td>\n",
              "      <td>0.2</td>\n",
              "      <td>setosa</td>\n",
              "      <td>[5.0, 3.6, 1.4, 0.2]</td>\n",
              "      <td>1</td>\n",
              "    </tr>\n",
              "  </tbody>\n",
              "</table>\n",
              "</div>"
            ],
            "text/plain": [
              "   sepal_length  sepal_width  ...              features  prediction\n",
              "0           5.1          3.5  ...  [5.1, 3.5, 1.4, 0.2]           1\n",
              "1           4.9          3.0  ...  [4.9, 3.0, 1.4, 0.2]           1\n",
              "2           4.7          3.2  ...  [4.7, 3.2, 1.3, 0.2]           1\n",
              "3           4.6          3.1  ...  [4.6, 3.1, 1.5, 0.2]           1\n",
              "4           5.0          3.6  ...  [5.0, 3.6, 1.4, 0.2]           1\n",
              "\n",
              "[5 rows x 7 columns]"
            ]
          },
          "metadata": {
            "tags": []
          },
          "execution_count": 44
        }
      ]
    },
    {
      "cell_type": "markdown",
      "metadata": {
        "id": "0S41ttdUJULx"
      },
      "source": [
        "We import the required libraries to plot the third visualization and\n",
        "observe the clusters."
      ]
    },
    {
      "cell_type": "code",
      "metadata": {
        "colab": {
          "base_uri": "https://localhost:8080/",
          "height": 561
        },
        "id": "tAcB2pz8JU4h",
        "outputId": "f88c553a-ea94-41f2-a80d-9bf463241e36"
      },
      "source": [
        "from mpl_toolkits.mplot3d import Axes3D\n",
        "cluster_vis = plt.figure(figsize=(12,10)).gca(projection='3d')\n",
        "cluster_vis.scatter(pandas_df.sepal_length, pandas_df.sepal_width, pandas_df.petal_length, c=pandas_df.prediction,depthshade=False)\n",
        "plt.show()"
      ],
      "execution_count": null,
      "outputs": [
        {
          "output_type": "display_data",
          "data": {
            "image/png": "[encoded data removed]",
            "text/plain": [
              "<Figure size 864x720 with 1 Axes>"
            ]
          },
          "metadata": {
            "tags": [],
            "needs_background": "light"
          }
        }
      ]
    }
  ]
}